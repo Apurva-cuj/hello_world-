{
  "nbformat": 4,
  "nbformat_minor": 0,
  "metadata": {
    "colab": {
      "name": "Basic.ipynb",
      "provenance": [],
      "mount_file_id": "1oqEynhaakn-fyShzX0qs8vlPnk9sIZWh",
      "authorship_tag": "ABX9TyNHFu9ntm/hsS4tHYDty8lG",
      "include_colab_link": true
    },
    "kernelspec": {
      "name": "python3",
      "display_name": "Python 3"
    },
    "accelerator": "GPU"
  },
  "cells": [
    {
      "cell_type": "markdown",
      "metadata": {
        "id": "view-in-github",
        "colab_type": "text"
      },
      "source": [
        "<a href=\"https://colab.research.google.com/github/Apurva-cuj/hello_world-/blob/main/Basic.ipynb\" target=\"_parent\"><img src=\"https://colab.research.google.com/assets/colab-badge.svg\" alt=\"Open In Colab\"/></a>"
      ]
    },
    {
      "cell_type": "code",
      "metadata": {
        "colab": {
          "base_uri": "https://localhost:8080/"
        },
        "id": "xPIXTOOjG7XA",
        "outputId": "4eda6603-cedd-4e9f-9027-22922125a50a"
      },
      "source": [
        "!git clone https://github.com/xiaojunxu/dnn-binary-code-similarity.git"
      ],
      "execution_count": null,
      "outputs": [
        {
          "output_type": "stream",
          "text": [
            "Cloning into 'dnn-binary-code-similarity'...\n",
            "remote: Enumerating objects: 107, done.\u001b[K\n",
            "remote: Total 107 (delta 0), reused 0 (delta 0), pack-reused 107\u001b[K\n",
            "Receiving objects: 100% (107/107), 16.92 MiB | 8.36 MiB/s, done.\n",
            "Resolving deltas: 100% (58/58), done.\n"
          ],
          "name": "stdout"
        }
      ]
    },
    {
      "cell_type": "code",
      "metadata": {
        "id": "sPh6rr9cH1ko"
      },
      "source": [
        ""
      ],
      "execution_count": null,
      "outputs": []
    },
    {
      "cell_type": "code",
      "metadata": {
        "id": "eBseB7EYJeB_"
      },
      "source": [
        "!cd dnn-binary-code-similarity/\r\n"
      ],
      "execution_count": null,
      "outputs": []
    },
    {
      "cell_type": "code",
      "metadata": {
        "colab": {
          "base_uri": "https://localhost:8080/"
        },
        "id": "k5Zxii1SJxFf",
        "outputId": "792663b7-be62-41fa-eff5-f68fe25c9899"
      },
      "source": [
        "!pwd"
      ],
      "execution_count": null,
      "outputs": [
        {
          "output_type": "stream",
          "text": [
            "/content\n"
          ],
          "name": "stdout"
        }
      ]
    },
    {
      "cell_type": "code",
      "metadata": {
        "colab": {
          "base_uri": "https://localhost:8080/"
        },
        "id": "E6CZuZqfJy19",
        "outputId": "0c0eda51-0a07-4f77-da72-5c12d3b80bf4"
      },
      "source": [
        "cd dnn-binary-code-similarity/"
      ],
      "execution_count": null,
      "outputs": [
        {
          "output_type": "stream",
          "text": [
            "/content/dnn-binary-code-similarity\n"
          ],
          "name": "stdout"
        }
      ]
    },
    {
      "cell_type": "code",
      "metadata": {
        "colab": {
          "base_uri": "https://localhost:8080/"
        },
        "id": "Yieeka7bJ2bt",
        "outputId": "c24f175d-cd1a-4e97-8ecb-fb395e86d46b"
      },
      "source": [
        "!pwd\r\n"
      ],
      "execution_count": null,
      "outputs": [
        {
          "output_type": "stream",
          "text": [
            "/content/dnn-binary-code-similarity\n"
          ],
          "name": "stdout"
        }
      ]
    },
    {
      "cell_type": "code",
      "metadata": {
        "colab": {
          "base_uri": "https://localhost:8080/"
        },
        "id": "r4ryp5DkJ4Hl",
        "outputId": "b6fba5a8-40c0-4e50-dbf8-9789cc7cc173"
      },
      "source": [
        "!unzip data.zip\r\n"
      ],
      "execution_count": null,
      "outputs": [
        {
          "output_type": "stream",
          "text": [
            "Archive:  data.zip\n",
            "   creating: data/\n",
            "  inflating: data/valid.json         \n",
            "  inflating: data/test.json          \n",
            "  inflating: data/class_perm.npy     \n",
            "   creating: data/acfgSSL_7/\n",
            "  inflating: data/acfgSSL_7/openssl-1.0.1u-mips-linux-O1v54.json  \n",
            "  inflating: data/acfgSSL_7/openssl-1.0.1f-i586-linux-O0v54.json  \n",
            "  inflating: data/acfgSSL_7/openssl-1.0.1u-armeb-linux-O0v54.json  \n",
            "  inflating: data/acfgSSL_7/openssl-1.0.1u-mips-linux-O2v54.json  \n",
            "  inflating: data/acfgSSL_7/openssl-1.0.1u-i586-linux-O2v54.json  \n",
            "  inflating: data/acfgSSL_7/openssl-1.0.1f-mips-linux-O1v54.json  \n",
            "  inflating: data/acfgSSL_7/openssl-1.0.1f-mips-linux-O0v54.json  \n",
            "  inflating: data/acfgSSL_7/openssl-1.0.1f-i586-linux-O1v54.json  \n",
            "  inflating: data/acfgSSL_7/openssl-1.0.1u-mips-linux-O0v54.json  \n",
            "  inflating: data/acfgSSL_7/openssl-1.0.1f-i586-linux-O3v54.json  \n",
            "  inflating: data/acfgSSL_7/openssl-1.0.1u-i586-linux-O0v54.json  \n",
            "  inflating: data/acfgSSL_7/openssl-1.0.1u-armeb-linux-O2v54.json  \n",
            "  inflating: data/acfgSSL_7/openssl-1.0.1f-armeb-linux-O3v54.json  \n",
            "  inflating: data/acfgSSL_7/openssl-1.0.1u-mips-linux-O3v54.json  \n",
            "  inflating: data/acfgSSL_7/openssl-1.0.1u-i586-linux-O1v54.json  \n",
            "  inflating: data/acfgSSL_7/openssl-1.0.1u-armeb-linux-O1v54.json  \n",
            "  inflating: data/acfgSSL_7/openssl-1.0.1f-mips-linux-O3v54.json  \n",
            "  inflating: data/acfgSSL_7/openssl-1.0.1f-i586-linux-O2v54.json  \n",
            "  inflating: data/acfgSSL_7/openssl-1.0.1f-armeb-linux-O0v54.json  \n",
            "  inflating: data/acfgSSL_7/openssl-1.0.1f-armeb-linux-O2v54.json  \n",
            "  inflating: data/acfgSSL_7/openssl-1.0.1f-armeb-linux-O1v54.json  \n",
            "  inflating: data/acfgSSL_7/openssl-1.0.1u-i586-linux-O3v54.json  \n",
            "  inflating: data/acfgSSL_7/openssl-1.0.1u-armeb-linux-O3v54.json  \n",
            "  inflating: data/acfgSSL_7/openssl-1.0.1f-mips-linux-O2v54.json  \n"
          ],
          "name": "stdout"
        }
      ]
    },
    {
      "cell_type": "code",
      "metadata": {
        "colab": {
          "base_uri": "https://localhost:8080/"
        },
        "id": "jPeo1X-KJ8J2",
        "outputId": "e3315b9e-2d28-4693-d9c6-338001efc843"
      },
      "source": [
        "!pip install -r requirements.txt"
      ],
      "execution_count": null,
      "outputs": [
        {
          "output_type": "stream",
          "text": [
            "Collecting backports.weakref==1.0.post1\n",
            "  Downloading https://files.pythonhosted.org/packages/88/ec/f598b633c3d5ffe267aaada57d961c94fdfa183c5c3ebda2b6d151943db6/backports.weakref-1.0.post1-py2.py3-none-any.whl\n",
            "Collecting bleach==1.5.0\n",
            "  Downloading https://files.pythonhosted.org/packages/33/70/86c5fec937ea4964184d4d6c4f0b9551564f821e1c3575907639036d9b90/bleach-1.5.0-py2.py3-none-any.whl\n",
            "Collecting enum34==1.1.6\n",
            "  Downloading https://files.pythonhosted.org/packages/af/42/cb9355df32c69b553e72a2e28daee25d1611d2c0d9c272aa1d34204205b2/enum34-1.1.6-py3-none-any.whl\n",
            "Collecting funcsigs==1.0.2\n",
            "  Downloading https://files.pythonhosted.org/packages/69/cb/f5be453359271714c01b9bd06126eaf2e368f1fddfff30818754b5ac2328/funcsigs-1.0.2-py2.py3-none-any.whl\n",
            "\u001b[31mERROR: Could not find a version that satisfies the requirement futures==3.2.0 (from -r requirements.txt (line 5)) (from versions: 0.2.python3, 0.1, 0.2, 1.0, 2.0, 2.1, 2.1.1, 2.1.2, 2.1.3, 2.1.4, 2.1.5, 2.1.6, 2.2.0, 3.0.0, 3.0.1, 3.0.2, 3.0.3, 3.0.4, 3.0.5, 3.1.0, 3.1.1)\u001b[0m\n",
            "\u001b[31mERROR: No matching distribution found for futures==3.2.0 (from -r requirements.txt (line 5))\u001b[0m\n"
          ],
          "name": "stdout"
        }
      ]
    },
    {
      "cell_type": "code",
      "metadata": {
        "colab": {
          "base_uri": "https://localhost:8080/"
        },
        "id": "7B69s-9GKeJs",
        "outputId": "ba1ac1dd-076b-4c54-b363-4cdf55b67d71"
      },
      "source": [
        "!pip install futures"
      ],
      "execution_count": null,
      "outputs": [
        {
          "output_type": "stream",
          "text": [
            "Collecting futures\n",
            "  Downloading https://files.pythonhosted.org/packages/05/80/f41cca0ea1ff69bce7e7a7d76182b47bb4e1a494380a532af3e8ee70b9ec/futures-3.1.1-py3-none-any.whl\n",
            "Installing collected packages: futures\n",
            "Successfully installed futures-3.1.1\n"
          ],
          "name": "stdout"
        }
      ]
    },
    {
      "cell_type": "code",
      "metadata": {
        "colab": {
          "base_uri": "https://localhost:8080/"
        },
        "id": "XY_b0ugXKluc",
        "outputId": "a4625df5-077b-4649-d8a6-f6cadd9d48ea"
      },
      "source": [
        "!pip install -r requirements.txt"
      ],
      "execution_count": null,
      "outputs": [
        {
          "output_type": "stream",
          "text": [
            "Collecting backports.weakref==1.0.post1\n",
            "  Using cached https://files.pythonhosted.org/packages/88/ec/f598b633c3d5ffe267aaada57d961c94fdfa183c5c3ebda2b6d151943db6/backports.weakref-1.0.post1-py2.py3-none-any.whl\n",
            "Collecting bleach==1.5.0\n",
            "  Using cached https://files.pythonhosted.org/packages/33/70/86c5fec937ea4964184d4d6c4f0b9551564f821e1c3575907639036d9b90/bleach-1.5.0-py2.py3-none-any.whl\n",
            "Collecting enum34==1.1.6\n",
            "  Using cached https://files.pythonhosted.org/packages/af/42/cb9355df32c69b553e72a2e28daee25d1611d2c0d9c272aa1d34204205b2/enum34-1.1.6-py3-none-any.whl\n",
            "Collecting funcsigs==1.0.2\n",
            "  Using cached https://files.pythonhosted.org/packages/69/cb/f5be453359271714c01b9bd06126eaf2e368f1fddfff30818754b5ac2328/funcsigs-1.0.2-py2.py3-none-any.whl\n",
            "Collecting html5lib==0.9999999\n",
            "\u001b[?25l  Downloading https://files.pythonhosted.org/packages/ae/ae/bcb60402c60932b32dfaf19bb53870b29eda2cd17551ba5639219fb5ebf9/html5lib-0.9999999.tar.gz (889kB)\n",
            "\u001b[K     |████████████████████████████████| 890kB 5.8MB/s \n",
            "\u001b[?25hCollecting Markdown==2.6.10\n",
            "\u001b[?25l  Downloading https://files.pythonhosted.org/packages/f0/68/d7d5503adbd302fb8e44c8ece2b8afff467a888efb8a0a116c432cc4f4fe/Markdown-2.6.10.zip (414kB)\n",
            "\u001b[K     |████████████████████████████████| 419kB 11.9MB/s \n",
            "\u001b[?25hCollecting mock==2.0.0\n",
            "\u001b[?25l  Downloading https://files.pythonhosted.org/packages/e6/35/f187bdf23be87092bd0f1200d43d23076cee4d0dec109f195173fd3ebc79/mock-2.0.0-py2.py3-none-any.whl (56kB)\n",
            "\u001b[K     |████████████████████████████████| 61kB 7.1MB/s \n",
            "\u001b[?25hCollecting numpy==1.13.3\n",
            "\u001b[?25l  Downloading https://files.pythonhosted.org/packages/57/a7/e3e6bd9d595125e1abbe162e323fd2d06f6f6683185294b79cd2cdb190d5/numpy-1.13.3-cp36-cp36m-manylinux1_x86_64.whl (17.0MB)\n",
            "\u001b[K     |████████████████████████████████| 17.0MB 252kB/s \n",
            "\u001b[?25hCollecting pbr==3.1.1\n",
            "\u001b[?25l  Downloading https://files.pythonhosted.org/packages/0c/5d/b077dbf309993d52c1d71e6bf6fe443a8029ea215135ebbe0b1b10e7aefc/pbr-3.1.1-py2.py3-none-any.whl (99kB)\n",
            "\u001b[K     |████████████████████████████████| 102kB 9.1MB/s \n",
            "\u001b[31mERROR: Could not find a version that satisfies the requirement pkg-resources==0.0.0 (from -r requirements.txt (line 10)) (from versions: none)\u001b[0m\n",
            "\u001b[31mERROR: No matching distribution found for pkg-resources==0.0.0 (from -r requirements.txt (line 10))\u001b[0m\n",
            "\u001b[?25h"
          ],
          "name": "stdout"
        }
      ]
    },
    {
      "cell_type": "code",
      "metadata": {
        "colab": {
          "base_uri": "https://localhost:8080/"
        },
        "id": "tNtoZiVXKwul",
        "outputId": "90845cdc-543f-4eb4-bec6-02c611ce4a3e"
      },
      "source": [
        "!pip install pkg-resources"
      ],
      "execution_count": null,
      "outputs": [
        {
          "output_type": "stream",
          "text": [
            "\u001b[31mERROR: Could not find a version that satisfies the requirement pkg-resources (from versions: none)\u001b[0m\n",
            "\u001b[31mERROR: No matching distribution found for pkg-resources\u001b[0m\n"
          ],
          "name": "stdout"
        }
      ]
    },
    {
      "cell_type": "code",
      "metadata": {
        "id": "LnavYpbOK370"
      },
      "source": [
        "pip install"
      ],
      "execution_count": null,
      "outputs": []
    },
    {
      "cell_type": "code",
      "metadata": {
        "colab": {
          "base_uri": "https://localhost:8080/"
        },
        "id": "jouRmNPuH3D_",
        "outputId": "c3a896f7-468b-40d4-8d40-cdacff8eb1f7"
      },
      "source": [
        "!pwd\r\n"
      ],
      "execution_count": 1,
      "outputs": [
        {
          "output_type": "stream",
          "text": [
            "/content\n"
          ],
          "name": "stdout"
        }
      ]
    },
    {
      "cell_type": "code",
      "metadata": {
        "id": "3vD8EAv8H5JH"
      },
      "source": [
        "!git clone "
      ],
      "execution_count": null,
      "outputs": []
    },
    {
      "cell_type": "code",
      "metadata": {
        "colab": {
          "base_uri": "https://localhost:8080/"
        },
        "id": "cR9b05S2IALm",
        "outputId": "dcd386bf-b623-4d31-d5bb-4d7a5fa9558f"
      },
      "source": [
        "!git clone https://github.com/xiaojunxu/dnn-binary-code-similarity.git"
      ],
      "execution_count": 2,
      "outputs": [
        {
          "output_type": "stream",
          "text": [
            "Cloning into 'dnn-binary-code-similarity'...\n",
            "remote: Enumerating objects: 107, done.\u001b[K\n",
            "remote: Total 107 (delta 0), reused 0 (delta 0), pack-reused 107\u001b[K\n",
            "Receiving objects: 100% (107/107), 16.92 MiB | 2.45 MiB/s, done.\n",
            "Resolving deltas: 100% (58/58), done.\n"
          ],
          "name": "stdout"
        }
      ]
    },
    {
      "cell_type": "code",
      "metadata": {
        "colab": {
          "base_uri": "https://localhost:8080/"
        },
        "id": "s7kri6QlICBe",
        "outputId": "f9c2f92e-6b5f-433c-e60f-a872016578d0"
      },
      "source": [
        "cd dnn-binary-code-similarity/\r\n"
      ],
      "execution_count": 3,
      "outputs": [
        {
          "output_type": "stream",
          "text": [
            "/content/dnn-binary-code-similarity\n"
          ],
          "name": "stdout"
        }
      ]
    },
    {
      "cell_type": "code",
      "metadata": {
        "colab": {
          "base_uri": "https://localhost:8080/"
        },
        "id": "CRT2SZRgIHqF",
        "outputId": "631f17f8-9dc5-4261-804c-60142103f9a0"
      },
      "source": [
        "!pwd\r\n"
      ],
      "execution_count": 4,
      "outputs": [
        {
          "output_type": "stream",
          "text": [
            "/content/dnn-binary-code-similarity\n"
          ],
          "name": "stdout"
        }
      ]
    },
    {
      "cell_type": "code",
      "metadata": {
        "colab": {
          "base_uri": "https://localhost:8080/"
        },
        "id": "L7tcRNSfIJA1",
        "outputId": "08a76908-828f-41a3-ff0a-949543849ded"
      },
      "source": [
        "!pip install -r requirements.txt"
      ],
      "execution_count": 5,
      "outputs": [
        {
          "output_type": "stream",
          "text": [
            "Collecting backports.weakref==1.0.post1\n",
            "  Downloading https://files.pythonhosted.org/packages/88/ec/f598b633c3d5ffe267aaada57d961c94fdfa183c5c3ebda2b6d151943db6/backports.weakref-1.0.post1-py2.py3-none-any.whl\n",
            "Collecting bleach==1.5.0\n",
            "  Downloading https://files.pythonhosted.org/packages/33/70/86c5fec937ea4964184d4d6c4f0b9551564f821e1c3575907639036d9b90/bleach-1.5.0-py2.py3-none-any.whl\n",
            "Collecting enum34==1.1.6\n",
            "  Downloading https://files.pythonhosted.org/packages/af/42/cb9355df32c69b553e72a2e28daee25d1611d2c0d9c272aa1d34204205b2/enum34-1.1.6-py3-none-any.whl\n",
            "Collecting funcsigs==1.0.2\n",
            "  Downloading https://files.pythonhosted.org/packages/69/cb/f5be453359271714c01b9bd06126eaf2e368f1fddfff30818754b5ac2328/funcsigs-1.0.2-py2.py3-none-any.whl\n",
            "\u001b[31mERROR: Could not find a version that satisfies the requirement futures==3.2.0 (from -r requirements.txt (line 5)) (from versions: 0.2.python3, 0.1, 0.2, 1.0, 2.0, 2.1, 2.1.1, 2.1.2, 2.1.3, 2.1.4, 2.1.5, 2.1.6, 2.2.0, 3.0.0, 3.0.1, 3.0.2, 3.0.3, 3.0.4, 3.0.5, 3.1.0, 3.1.1)\u001b[0m\n",
            "\u001b[31mERROR: No matching distribution found for futures==3.2.0 (from -r requirements.txt (line 5))\u001b[0m\n"
          ],
          "name": "stdout"
        }
      ]
    },
    {
      "cell_type": "code",
      "metadata": {
        "colab": {
          "base_uri": "https://localhost:8080/"
        },
        "id": "XvoVAgnYIM_G",
        "outputId": "0b746194-10ee-4e88-e18b-3b0d444a0dcb"
      },
      "source": [
        "!pip install poetry"
      ],
      "execution_count": 6,
      "outputs": [
        {
          "output_type": "stream",
          "text": [
            "Collecting poetry\n",
            "\u001b[?25l  Downloading https://files.pythonhosted.org/packages/f9/dd/b6ba82de8c075d1a795670ae16952a4c1cb21398b4330d8cfb51241e32d7/poetry-1.1.4-py2.py3-none-any.whl (171kB)\n",
            "\r\u001b[K     |██                              | 10kB 19.6MB/s eta 0:00:01\r\u001b[K     |███▉                            | 20kB 25.5MB/s eta 0:00:01\r\u001b[K     |█████▊                          | 30kB 27.0MB/s eta 0:00:01\r\u001b[K     |███████▋                        | 40kB 21.4MB/s eta 0:00:01\r\u001b[K     |█████████▌                      | 51kB 17.0MB/s eta 0:00:01\r\u001b[K     |███████████▌                    | 61kB 18.5MB/s eta 0:00:01\r\u001b[K     |█████████████▍                  | 71kB 14.3MB/s eta 0:00:01\r\u001b[K     |███████████████▎                | 81kB 15.2MB/s eta 0:00:01\r\u001b[K     |█████████████████▏              | 92kB 15.6MB/s eta 0:00:01\r\u001b[K     |███████████████████             | 102kB 14.4MB/s eta 0:00:01\r\u001b[K     |█████████████████████           | 112kB 14.4MB/s eta 0:00:01\r\u001b[K     |███████████████████████         | 122kB 14.4MB/s eta 0:00:01\r\u001b[K     |████████████████████████▉       | 133kB 14.4MB/s eta 0:00:01\r\u001b[K     |██████████████████████████▊     | 143kB 14.4MB/s eta 0:00:01\r\u001b[K     |████████████████████████████▋   | 153kB 14.4MB/s eta 0:00:01\r\u001b[K     |██████████████████████████████▌ | 163kB 14.4MB/s eta 0:00:01\r\u001b[K     |████████████████████████████████| 174kB 14.4MB/s \n",
            "\u001b[?25hRequirement already satisfied: packaging<21.0,>=20.4 in /usr/local/lib/python3.6/dist-packages (from poetry) (20.9)\n",
            "Collecting tomlkit<1.0.0,>=0.7.0\n",
            "  Downloading https://files.pythonhosted.org/packages/bc/01/a0ee34fe37dd54f795e8f8a820af57c9a94d7358276acf6cdc21ae8d9533/tomlkit-0.7.0-py2.py3-none-any.whl\n",
            "Collecting cleo<0.9.0,>=0.8.1\n",
            "  Downloading https://files.pythonhosted.org/packages/09/46/3577da4237675e90630e8e9ccd2c7dbcd42afd4463712a207eab148dfbc2/cleo-0.8.1-py2.py3-none-any.whl\n",
            "Requirement already satisfied: pexpect<5.0.0,>=4.7.0 in /usr/local/lib/python3.6/dist-packages (from poetry) (4.8.0)\n",
            "Collecting importlib-metadata<2.0.0,>=1.6.0; python_version < \"3.8\"\n",
            "  Downloading https://files.pythonhosted.org/packages/8e/58/cdea07eb51fc2b906db0968a94700866fc46249bdc75cac23f9d13168929/importlib_metadata-1.7.0-py2.py3-none-any.whl\n",
            "Collecting poetry-core<2.0.0,>=1.0.0\n",
            "\u001b[?25l  Downloading https://files.pythonhosted.org/packages/a0/56/d7923fb39395c662bab9e6044e290458a77204ea3cafc3b1ea88e27b8f4c/poetry_core-1.0.2-py2.py3-none-any.whl (424kB)\n",
            "\u001b[K     |████████████████████████████████| 430kB 22.7MB/s \n",
            "\u001b[?25hCollecting pkginfo<2.0,>=1.4\n",
            "  Downloading https://files.pythonhosted.org/packages/b0/9a/d78e7c299eb5659bc3a036e5a968a399c62bfe0b2aa18baf7d13f43373ba/pkginfo-1.7.0-py2.py3-none-any.whl\n",
            "Collecting crashtest<0.4.0,>=0.3.0; python_version >= \"3.6\" and python_version < \"4.0\"\n",
            "  Downloading https://files.pythonhosted.org/packages/76/97/2a99f020be5e4a5a97ba10bc480e2e6a889b5087103a2c6b952b5f819d27/crashtest-0.3.1-py3-none-any.whl\n",
            "Requirement already satisfied: requests<3.0,>=2.18 in /usr/local/lib/python3.6/dist-packages (from poetry) (2.23.0)\n",
            "Requirement already satisfied: html5lib<2.0,>=1.0 in /usr/local/lib/python3.6/dist-packages (from poetry) (1.0.1)\n",
            "Collecting keyring<22.0.0,>=21.2.0; python_version >= \"3.6\" and python_version < \"4.0\"\n",
            "  Downloading https://files.pythonhosted.org/packages/d0/a0/20e656cd1e2313af619e382782bd47b5f77a3f33d81992554f3aac56e90d/keyring-21.8.0-py3-none-any.whl\n",
            "Collecting requests-toolbelt<0.10.0,>=0.9.1\n",
            "\u001b[?25l  Downloading https://files.pythonhosted.org/packages/60/ef/7681134338fc097acef8d9b2f8abe0458e4d87559c689a8c306d0957ece5/requests_toolbelt-0.9.1-py2.py3-none-any.whl (54kB)\n",
            "\u001b[K     |████████████████████████████████| 61kB 9.4MB/s \n",
            "\u001b[?25hCollecting clikit<0.7.0,>=0.6.2\n",
            "\u001b[?25l  Downloading https://files.pythonhosted.org/packages/f2/3d/4394c710b9195b83382dc67bdd1040e5ebfc3fc8df90e20fe74341298c57/clikit-0.6.2-py2.py3-none-any.whl (91kB)\n",
            "\u001b[K     |████████████████████████████████| 92kB 7.8MB/s \n",
            "\u001b[?25hCollecting shellingham<2.0,>=1.1\n",
            "  Downloading https://files.pythonhosted.org/packages/76/94/7a764d57d0f46534e0022e651da6547bc5cfe7b6372e7e0ed1dde6f5cb67/shellingham-1.4.0-py2.py3-none-any.whl\n",
            "Requirement already satisfied: cachecontrol[filecache]<0.13.0,>=0.12.4 in /usr/local/lib/python3.6/dist-packages (from poetry) (0.12.6)\n",
            "Collecting virtualenv<21.0.0,>=20.0.26\n",
            "\u001b[?25l  Downloading https://files.pythonhosted.org/packages/9f/fb/7423637e48cffbb2e567ca113d2b05068f8b457dde998ab487adf7386c86/virtualenv-20.4.2-py2.py3-none-any.whl (7.2MB)\n",
            "\u001b[K     |████████████████████████████████| 7.2MB 14.9MB/s \n",
            "\u001b[?25hCollecting cachy<0.4.0,>=0.3.0\n",
            "  Downloading https://files.pythonhosted.org/packages/82/e6/badd9af6feee43e76c3445b2621a60d3d99fe0e33fffa8df43590212ea63/cachy-0.3.0-py2.py3-none-any.whl\n",
            "Requirement already satisfied: pyparsing>=2.0.2 in /usr/local/lib/python3.6/dist-packages (from packaging<21.0,>=20.4->poetry) (2.4.7)\n",
            "Requirement already satisfied: ptyprocess>=0.5 in /usr/local/lib/python3.6/dist-packages (from pexpect<5.0.0,>=4.7.0->poetry) (0.7.0)\n",
            "Requirement already satisfied: zipp>=0.5 in /usr/local/lib/python3.6/dist-packages (from importlib-metadata<2.0.0,>=1.6.0; python_version < \"3.8\"->poetry) (3.4.0)\n",
            "Requirement already satisfied: idna<3,>=2.5 in /usr/local/lib/python3.6/dist-packages (from requests<3.0,>=2.18->poetry) (2.10)\n",
            "Requirement already satisfied: certifi>=2017.4.17 in /usr/local/lib/python3.6/dist-packages (from requests<3.0,>=2.18->poetry) (2020.12.5)\n",
            "Requirement already satisfied: urllib3!=1.25.0,!=1.25.1,<1.26,>=1.21.1 in /usr/local/lib/python3.6/dist-packages (from requests<3.0,>=2.18->poetry) (1.24.3)\n",
            "Requirement already satisfied: chardet<4,>=3.0.2 in /usr/local/lib/python3.6/dist-packages (from requests<3.0,>=2.18->poetry) (3.0.4)\n",
            "Requirement already satisfied: webencodings in /usr/local/lib/python3.6/dist-packages (from html5lib<2.0,>=1.0->poetry) (0.5.1)\n",
            "Requirement already satisfied: six>=1.9 in /usr/local/lib/python3.6/dist-packages (from html5lib<2.0,>=1.0->poetry) (1.15.0)\n",
            "Collecting SecretStorage>=3.2; sys_platform == \"linux\"\n",
            "  Downloading https://files.pythonhosted.org/packages/d9/1e/29cd69fdac7391aa51510dfd42aa70b4e6a826c8cd019ee2a8ab9ec0777f/SecretStorage-3.3.1-py3-none-any.whl\n",
            "Collecting jeepney>=0.4.2; sys_platform == \"linux\"\n",
            "\u001b[?25l  Downloading https://files.pythonhosted.org/packages/51/b0/a6ea72741aaac3f37fb96d195e4ee576a103c4c04e279bc6b446a70960e1/jeepney-0.6.0-py3-none-any.whl (45kB)\n",
            "\u001b[K     |████████████████████████████████| 51kB 9.0MB/s \n",
            "\u001b[?25hCollecting pylev<2.0,>=1.3\n",
            "  Downloading https://files.pythonhosted.org/packages/40/1c/7dff1d242bf1e19f9c6202f0ba4e6fd18cc7ecb8bc85b17b2d16c806e228/pylev-1.3.0-py2.py3-none-any.whl\n",
            "Collecting pastel<0.3.0,>=0.2.0\n",
            "  Downloading https://files.pythonhosted.org/packages/aa/18/a8444036c6dd65ba3624c63b734d3ba95ba63ace513078e1580590075d21/pastel-0.2.1-py2.py3-none-any.whl\n",
            "Requirement already satisfied: msgpack>=0.5.2 in /usr/local/lib/python3.6/dist-packages (from cachecontrol[filecache]<0.13.0,>=0.12.4->poetry) (1.0.2)\n",
            "Collecting lockfile>=0.9; extra == \"filecache\"\n",
            "  Downloading https://files.pythonhosted.org/packages/c8/22/9460e311f340cb62d26a38c419b1381b8593b0bb6b5d1f056938b086d362/lockfile-0.12.2-py2.py3-none-any.whl\n",
            "Requirement already satisfied: filelock<4,>=3.0.0 in /usr/local/lib/python3.6/dist-packages (from virtualenv<21.0.0,>=20.0.26->poetry) (3.0.12)\n",
            "Requirement already satisfied: appdirs<2,>=1.4.3 in /usr/local/lib/python3.6/dist-packages (from virtualenv<21.0.0,>=20.0.26->poetry) (1.4.4)\n",
            "Collecting distlib<1,>=0.3.1\n",
            "\u001b[?25l  Downloading https://files.pythonhosted.org/packages/f5/0a/490fa011d699bb5a5f3a0cf57de82237f52a6db9d40f33c53b2736c9a1f9/distlib-0.3.1-py2.py3-none-any.whl (335kB)\n",
            "\u001b[K     |████████████████████████████████| 337kB 49.8MB/s \n",
            "\u001b[?25hRequirement already satisfied: importlib-resources>=1.0; python_version < \"3.7\" in /usr/local/lib/python3.6/dist-packages (from virtualenv<21.0.0,>=20.0.26->poetry) (5.1.0)\n",
            "Collecting cryptography>=2.0\n",
            "\u001b[?25l  Downloading https://files.pythonhosted.org/packages/2f/61/6f4765822d1f3878c913755bd99212f1ab0b9fa808fc2197ace0790f4cdb/cryptography-3.4.5-cp36-abi3-manylinux2014_x86_64.whl (3.2MB)\n",
            "\u001b[K     |████████████████████████████████| 3.2MB 41.7MB/s \n",
            "\u001b[?25hRequirement already satisfied: cffi>=1.12 in /usr/local/lib/python3.6/dist-packages (from cryptography>=2.0->SecretStorage>=3.2; sys_platform == \"linux\"->keyring<22.0.0,>=21.2.0; python_version >= \"3.6\" and python_version < \"4.0\"->poetry) (1.14.4)\n",
            "Requirement already satisfied: pycparser in /usr/local/lib/python3.6/dist-packages (from cffi>=1.12->cryptography>=2.0->SecretStorage>=3.2; sys_platform == \"linux\"->keyring<22.0.0,>=21.2.0; python_version >= \"3.6\" and python_version < \"4.0\"->poetry) (2.20)\n",
            "Installing collected packages: tomlkit, crashtest, pylev, pastel, clikit, cleo, importlib-metadata, poetry-core, pkginfo, jeepney, cryptography, SecretStorage, keyring, requests-toolbelt, shellingham, distlib, virtualenv, cachy, poetry, lockfile\n",
            "  Found existing installation: importlib-metadata 3.4.0\n",
            "    Uninstalling importlib-metadata-3.4.0:\n",
            "      Successfully uninstalled importlib-metadata-3.4.0\n",
            "Successfully installed SecretStorage-3.3.1 cachy-0.3.0 cleo-0.8.1 clikit-0.6.2 crashtest-0.3.1 cryptography-3.4.5 distlib-0.3.1 importlib-metadata-1.7.0 jeepney-0.6.0 keyring-21.8.0 lockfile-0.12.2 pastel-0.2.1 pkginfo-1.7.0 poetry-1.1.4 poetry-core-1.0.2 pylev-1.3.0 requests-toolbelt-0.9.1 shellingham-1.4.0 tomlkit-0.7.0 virtualenv-20.4.2\n"
          ],
          "name": "stdout"
        }
      ]
    },
    {
      "cell_type": "code",
      "metadata": {
        "colab": {
          "base_uri": "https://localhost:8080/",
          "height": 128
        },
        "id": "TcLi8epXIWwE",
        "outputId": "02f0e548-d4d2-4275-b04a-8517d06fdfdc"
      },
      "source": [
        "poetry version"
      ],
      "execution_count": 7,
      "outputs": [
        {
          "output_type": "error",
          "ename": "SyntaxError",
          "evalue": "ignored",
          "traceback": [
            "\u001b[0;36m  File \u001b[0;32m\"<ipython-input-7-dd7771ab4459>\"\u001b[0;36m, line \u001b[0;32m1\u001b[0m\n\u001b[0;31m    poetry version\u001b[0m\n\u001b[0m                 ^\u001b[0m\n\u001b[0;31mSyntaxError\u001b[0m\u001b[0;31m:\u001b[0m invalid syntax\n"
          ]
        }
      ]
    },
    {
      "cell_type": "code",
      "metadata": {
        "colab": {
          "base_uri": "https://localhost:8080/"
        },
        "id": "eb9gI022Icnl",
        "outputId": "183b73af-ce21-4336-94b8-392c06f7dfd1"
      },
      "source": [
        "!poetry --version"
      ],
      "execution_count": 8,
      "outputs": [
        {
          "output_type": "stream",
          "text": [
            "Poetry version \u001b[36m1.1.4\u001b[0m\n"
          ],
          "name": "stdout"
        }
      ]
    },
    {
      "cell_type": "code",
      "metadata": {
        "colab": {
          "base_uri": "https://localhost:8080/"
        },
        "id": "APX66Gy6Ip5V",
        "outputId": "29f623f6-5590-42d4-89ce-63eff9843262"
      },
      "source": [
        "!python --version"
      ],
      "execution_count": 9,
      "outputs": [
        {
          "output_type": "stream",
          "text": [
            "Python 3.6.9\n"
          ],
          "name": "stdout"
        }
      ]
    },
    {
      "cell_type": "code",
      "metadata": {
        "colab": {
          "base_uri": "https://localhost:8080/"
        },
        "id": "AyIu0Hm6JDXc",
        "outputId": "00207b2b-3983-4d12-a761-5365a89f63ab"
      },
      "source": [
        "!poetry new myenv"
      ],
      "execution_count": 1,
      "outputs": [
        {
          "output_type": "stream",
          "text": [
            "/bin/bash: poetry: command not found\n"
          ],
          "name": "stdout"
        }
      ]
    },
    {
      "cell_type": "code",
      "metadata": {
        "colab": {
          "base_uri": "https://localhost:8080/"
        },
        "id": "ZLDfCvYJJICs",
        "outputId": "255d5c29-77cf-462e-8cb1-98e26b9ebcbd"
      },
      "source": [
        "!pwd"
      ],
      "execution_count": 2,
      "outputs": [
        {
          "output_type": "stream",
          "text": [
            "/content\n"
          ],
          "name": "stdout"
        }
      ]
    },
    {
      "cell_type": "code",
      "metadata": {
        "id": "2rdr7B6UzQrw"
      },
      "source": [
        "!git clone "
      ],
      "execution_count": null,
      "outputs": []
    },
    {
      "cell_type": "code",
      "metadata": {
        "colab": {
          "base_uri": "https://localhost:8080/"
        },
        "id": "82s-PxtMzUFI",
        "outputId": "f4289380-bfcf-47b9-e27b-bb28aca12d18"
      },
      "source": [
        "!git clone https://github.com/xiaojunxu/dnn-binary-code-similarity.git"
      ],
      "execution_count": 3,
      "outputs": [
        {
          "output_type": "stream",
          "text": [
            "Cloning into 'dnn-binary-code-similarity'...\n",
            "remote: Enumerating objects: 107, done.\u001b[K\n",
            "remote: Total 107 (delta 0), reused 0 (delta 0), pack-reused 107\u001b[K\n",
            "Receiving objects: 100% (107/107), 16.92 MiB | 9.35 MiB/s, done.\n",
            "Resolving deltas: 100% (58/58), done.\n"
          ],
          "name": "stdout"
        }
      ]
    },
    {
      "cell_type": "code",
      "metadata": {
        "colab": {
          "base_uri": "https://localhost:8080/"
        },
        "id": "nhwSTmWvzVHP",
        "outputId": "87c3618e-8407-4697-884a-374e95bb9844"
      },
      "source": [
        "!poetry --version"
      ],
      "execution_count": 4,
      "outputs": [
        {
          "output_type": "stream",
          "text": [
            "/bin/bash: poetry: command not found\n"
          ],
          "name": "stdout"
        }
      ]
    },
    {
      "cell_type": "code",
      "metadata": {
        "colab": {
          "base_uri": "https://localhost:8080/"
        },
        "id": "_ke0FYFhzZav",
        "outputId": "21ce6861-582b-44cb-b479-5d20e25b5993"
      },
      "source": [
        "pip install poetry"
      ],
      "execution_count": 5,
      "outputs": [
        {
          "output_type": "stream",
          "text": [
            "Collecting poetry\n",
            "\u001b[?25l  Downloading https://files.pythonhosted.org/packages/f9/dd/b6ba82de8c075d1a795670ae16952a4c1cb21398b4330d8cfb51241e32d7/poetry-1.1.4-py2.py3-none-any.whl (171kB)\n",
            "\u001b[K     |████████████████████████████████| 174kB 5.3MB/s \n",
            "\u001b[?25hRequirement already satisfied: packaging<21.0,>=20.4 in /usr/local/lib/python3.6/dist-packages (from poetry) (20.9)\n",
            "Collecting pkginfo<2.0,>=1.4\n",
            "  Downloading https://files.pythonhosted.org/packages/b0/9a/d78e7c299eb5659bc3a036e5a968a399c62bfe0b2aa18baf7d13f43373ba/pkginfo-1.7.0-py2.py3-none-any.whl\n",
            "Collecting tomlkit<1.0.0,>=0.7.0\n",
            "  Downloading https://files.pythonhosted.org/packages/bc/01/a0ee34fe37dd54f795e8f8a820af57c9a94d7358276acf6cdc21ae8d9533/tomlkit-0.7.0-py2.py3-none-any.whl\n",
            "Collecting clikit<0.7.0,>=0.6.2\n",
            "\u001b[?25l  Downloading https://files.pythonhosted.org/packages/f2/3d/4394c710b9195b83382dc67bdd1040e5ebfc3fc8df90e20fe74341298c57/clikit-0.6.2-py2.py3-none-any.whl (91kB)\n",
            "\u001b[K     |████████████████████████████████| 92kB 4.3MB/s \n",
            "\u001b[?25hRequirement already satisfied: html5lib<2.0,>=1.0 in /usr/local/lib/python3.6/dist-packages (from poetry) (1.0.1)\n",
            "Collecting keyring<22.0.0,>=21.2.0; python_version >= \"3.6\" and python_version < \"4.0\"\n",
            "  Downloading https://files.pythonhosted.org/packages/d0/a0/20e656cd1e2313af619e382782bd47b5f77a3f33d81992554f3aac56e90d/keyring-21.8.0-py3-none-any.whl\n",
            "Requirement already satisfied: cachecontrol[filecache]<0.13.0,>=0.12.4 in /usr/local/lib/python3.6/dist-packages (from poetry) (0.12.6)\n",
            "Collecting cachy<0.4.0,>=0.3.0\n",
            "  Downloading https://files.pythonhosted.org/packages/82/e6/badd9af6feee43e76c3445b2621a60d3d99fe0e33fffa8df43590212ea63/cachy-0.3.0-py2.py3-none-any.whl\n",
            "Collecting poetry-core<2.0.0,>=1.0.0\n",
            "\u001b[?25l  Downloading https://files.pythonhosted.org/packages/a0/56/d7923fb39395c662bab9e6044e290458a77204ea3cafc3b1ea88e27b8f4c/poetry_core-1.0.2-py2.py3-none-any.whl (424kB)\n",
            "\u001b[K     |████████████████████████████████| 430kB 6.8MB/s \n",
            "\u001b[?25hRequirement already satisfied: requests<3.0,>=2.18 in /usr/local/lib/python3.6/dist-packages (from poetry) (2.23.0)\n",
            "Collecting virtualenv<21.0.0,>=20.0.26\n",
            "\u001b[?25l  Downloading https://files.pythonhosted.org/packages/9f/fb/7423637e48cffbb2e567ca113d2b05068f8b457dde998ab487adf7386c86/virtualenv-20.4.2-py2.py3-none-any.whl (7.2MB)\n",
            "\u001b[K     |████████████████████████████████| 7.2MB 6.5MB/s \n",
            "\u001b[?25hRequirement already satisfied: pexpect<5.0.0,>=4.7.0 in /usr/local/lib/python3.6/dist-packages (from poetry) (4.8.0)\n",
            "Collecting cleo<0.9.0,>=0.8.1\n",
            "  Downloading https://files.pythonhosted.org/packages/09/46/3577da4237675e90630e8e9ccd2c7dbcd42afd4463712a207eab148dfbc2/cleo-0.8.1-py2.py3-none-any.whl\n",
            "Collecting crashtest<0.4.0,>=0.3.0; python_version >= \"3.6\" and python_version < \"4.0\"\n",
            "  Downloading https://files.pythonhosted.org/packages/76/97/2a99f020be5e4a5a97ba10bc480e2e6a889b5087103a2c6b952b5f819d27/crashtest-0.3.1-py3-none-any.whl\n",
            "Collecting requests-toolbelt<0.10.0,>=0.9.1\n",
            "\u001b[?25l  Downloading https://files.pythonhosted.org/packages/60/ef/7681134338fc097acef8d9b2f8abe0458e4d87559c689a8c306d0957ece5/requests_toolbelt-0.9.1-py2.py3-none-any.whl (54kB)\n",
            "\u001b[K     |████████████████████████████████| 61kB 7.3MB/s \n",
            "\u001b[?25hCollecting shellingham<2.0,>=1.1\n",
            "  Downloading https://files.pythonhosted.org/packages/76/94/7a764d57d0f46534e0022e651da6547bc5cfe7b6372e7e0ed1dde6f5cb67/shellingham-1.4.0-py2.py3-none-any.whl\n",
            "Collecting importlib-metadata<2.0.0,>=1.6.0; python_version < \"3.8\"\n",
            "  Downloading https://files.pythonhosted.org/packages/8e/58/cdea07eb51fc2b906db0968a94700866fc46249bdc75cac23f9d13168929/importlib_metadata-1.7.0-py2.py3-none-any.whl\n",
            "Requirement already satisfied: pyparsing>=2.0.2 in /usr/local/lib/python3.6/dist-packages (from packaging<21.0,>=20.4->poetry) (2.4.7)\n",
            "Collecting pastel<0.3.0,>=0.2.0\n",
            "  Downloading https://files.pythonhosted.org/packages/aa/18/a8444036c6dd65ba3624c63b734d3ba95ba63ace513078e1580590075d21/pastel-0.2.1-py2.py3-none-any.whl\n",
            "Collecting pylev<2.0,>=1.3\n",
            "  Downloading https://files.pythonhosted.org/packages/40/1c/7dff1d242bf1e19f9c6202f0ba4e6fd18cc7ecb8bc85b17b2d16c806e228/pylev-1.3.0-py2.py3-none-any.whl\n",
            "Requirement already satisfied: webencodings in /usr/local/lib/python3.6/dist-packages (from html5lib<2.0,>=1.0->poetry) (0.5.1)\n",
            "Requirement already satisfied: six>=1.9 in /usr/local/lib/python3.6/dist-packages (from html5lib<2.0,>=1.0->poetry) (1.15.0)\n",
            "Collecting SecretStorage>=3.2; sys_platform == \"linux\"\n",
            "  Downloading https://files.pythonhosted.org/packages/d9/1e/29cd69fdac7391aa51510dfd42aa70b4e6a826c8cd019ee2a8ab9ec0777f/SecretStorage-3.3.1-py3-none-any.whl\n",
            "Collecting jeepney>=0.4.2; sys_platform == \"linux\"\n",
            "\u001b[?25l  Downloading https://files.pythonhosted.org/packages/51/b0/a6ea72741aaac3f37fb96d195e4ee576a103c4c04e279bc6b446a70960e1/jeepney-0.6.0-py3-none-any.whl (45kB)\n",
            "\u001b[K     |████████████████████████████████| 51kB 6.7MB/s \n",
            "\u001b[?25hRequirement already satisfied: msgpack>=0.5.2 in /usr/local/lib/python3.6/dist-packages (from cachecontrol[filecache]<0.13.0,>=0.12.4->poetry) (1.0.2)\n",
            "Collecting lockfile>=0.9; extra == \"filecache\"\n",
            "  Downloading https://files.pythonhosted.org/packages/c8/22/9460e311f340cb62d26a38c419b1381b8593b0bb6b5d1f056938b086d362/lockfile-0.12.2-py2.py3-none-any.whl\n",
            "Requirement already satisfied: idna<3,>=2.5 in /usr/local/lib/python3.6/dist-packages (from requests<3.0,>=2.18->poetry) (2.10)\n",
            "Requirement already satisfied: urllib3!=1.25.0,!=1.25.1,<1.26,>=1.21.1 in /usr/local/lib/python3.6/dist-packages (from requests<3.0,>=2.18->poetry) (1.24.3)\n",
            "Requirement already satisfied: certifi>=2017.4.17 in /usr/local/lib/python3.6/dist-packages (from requests<3.0,>=2.18->poetry) (2020.12.5)\n",
            "Requirement already satisfied: chardet<4,>=3.0.2 in /usr/local/lib/python3.6/dist-packages (from requests<3.0,>=2.18->poetry) (3.0.4)\n",
            "Requirement already satisfied: appdirs<2,>=1.4.3 in /usr/local/lib/python3.6/dist-packages (from virtualenv<21.0.0,>=20.0.26->poetry) (1.4.4)\n",
            "Requirement already satisfied: importlib-resources>=1.0; python_version < \"3.7\" in /usr/local/lib/python3.6/dist-packages (from virtualenv<21.0.0,>=20.0.26->poetry) (5.1.0)\n",
            "Collecting distlib<1,>=0.3.1\n",
            "\u001b[?25l  Downloading https://files.pythonhosted.org/packages/f5/0a/490fa011d699bb5a5f3a0cf57de82237f52a6db9d40f33c53b2736c9a1f9/distlib-0.3.1-py2.py3-none-any.whl (335kB)\n",
            "\u001b[K     |████████████████████████████████| 337kB 38.8MB/s \n",
            "\u001b[?25hRequirement already satisfied: filelock<4,>=3.0.0 in /usr/local/lib/python3.6/dist-packages (from virtualenv<21.0.0,>=20.0.26->poetry) (3.0.12)\n",
            "Requirement already satisfied: ptyprocess>=0.5 in /usr/local/lib/python3.6/dist-packages (from pexpect<5.0.0,>=4.7.0->poetry) (0.7.0)\n",
            "Requirement already satisfied: zipp>=0.5 in /usr/local/lib/python3.6/dist-packages (from importlib-metadata<2.0.0,>=1.6.0; python_version < \"3.8\"->poetry) (3.4.0)\n",
            "Collecting cryptography>=2.0\n",
            "\u001b[?25l  Downloading https://files.pythonhosted.org/packages/2f/61/6f4765822d1f3878c913755bd99212f1ab0b9fa808fc2197ace0790f4cdb/cryptography-3.4.5-cp36-abi3-manylinux2014_x86_64.whl (3.2MB)\n",
            "\u001b[K     |████████████████████████████████| 3.2MB 42.2MB/s \n",
            "\u001b[?25hRequirement already satisfied: cffi>=1.12 in /usr/local/lib/python3.6/dist-packages (from cryptography>=2.0->SecretStorage>=3.2; sys_platform == \"linux\"->keyring<22.0.0,>=21.2.0; python_version >= \"3.6\" and python_version < \"4.0\"->poetry) (1.14.4)\n",
            "Requirement already satisfied: pycparser in /usr/local/lib/python3.6/dist-packages (from cffi>=1.12->cryptography>=2.0->SecretStorage>=3.2; sys_platform == \"linux\"->keyring<22.0.0,>=21.2.0; python_version >= \"3.6\" and python_version < \"4.0\"->poetry) (2.20)\n",
            "Installing collected packages: pkginfo, tomlkit, pastel, crashtest, pylev, clikit, jeepney, cryptography, SecretStorage, importlib-metadata, keyring, cachy, poetry-core, distlib, virtualenv, cleo, requests-toolbelt, shellingham, poetry, lockfile\n",
            "  Found existing installation: importlib-metadata 3.4.0\n",
            "    Uninstalling importlib-metadata-3.4.0:\n",
            "      Successfully uninstalled importlib-metadata-3.4.0\n",
            "Successfully installed SecretStorage-3.3.1 cachy-0.3.0 cleo-0.8.1 clikit-0.6.2 crashtest-0.3.1 cryptography-3.4.5 distlib-0.3.1 importlib-metadata-1.7.0 jeepney-0.6.0 keyring-21.8.0 lockfile-0.12.2 pastel-0.2.1 pkginfo-1.7.0 poetry-1.1.4 poetry-core-1.0.2 pylev-1.3.0 requests-toolbelt-0.9.1 shellingham-1.4.0 tomlkit-0.7.0 virtualenv-20.4.2\n"
          ],
          "name": "stdout"
        }
      ]
    },
    {
      "cell_type": "code",
      "metadata": {
        "colab": {
          "base_uri": "https://localhost:8080/"
        },
        "id": "02TFBOI4zbU3",
        "outputId": "ca70560a-2263-4ab6-de34-db3638aab6eb"
      },
      "source": [
        "!poetry --version"
      ],
      "execution_count": 6,
      "outputs": [
        {
          "output_type": "stream",
          "text": [
            "Poetry version \u001b[36m1.1.4\u001b[0m\n"
          ],
          "name": "stdout"
        }
      ]
    },
    {
      "cell_type": "code",
      "metadata": {
        "colab": {
          "base_uri": "https://localhost:8080/"
        },
        "id": "6diZ5AYHzjd3",
        "outputId": "995baf19-508b-4864-b725-ac45eb1dc2be"
      },
      "source": [
        "!poetry new myenv"
      ],
      "execution_count": 7,
      "outputs": [
        {
          "output_type": "stream",
          "text": [
            "Created package \u001b[34mmyenv\u001b[0m in \u001b[34mmyenv\u001b[0m\n"
          ],
          "name": "stdout"
        }
      ]
    },
    {
      "cell_type": "code",
      "metadata": {
        "colab": {
          "base_uri": "https://localhost:8080/"
        },
        "id": "g15P82CrzwAX",
        "outputId": "f7b4d292-8491-44e2-d973-2b75ee0660b0"
      },
      "source": [
        "!poetry add --git https://github.com/xiaojunxu/dnn-binary-code-similarity.git"
      ],
      "execution_count": 8,
      "outputs": [
        {
          "output_type": "stream",
          "text": [
            "\n",
            "  \u001b[33mStack trace\u001b[0m:\n",
            "\n",
            "  \u001b[33m11\u001b[0m  \u001b[39;1m/usr/local/lib/python3.6/dist-packages/clikit/console_application.py\u001b[0m:\u001b[1m124\u001b[0m in \u001b[36mrun\u001b[0m\n",
            "      self, args, input_stream, output_stream, error_stream\n",
            "\n",
            "  \u001b[33m10\u001b[0m  \u001b[39;1m/usr/local/lib/python3.6/dist-packages/poetry/console/config/application_config.py\u001b[0m:\u001b[1m221\u001b[0m in \u001b[36mcreate_io\u001b[0m\n",
            "      resolved_command = application.resolve_command(args)\n",
            "\n",
            "  \u001b[33m 9\u001b[0m  \u001b[39;1m/usr/local/lib/python3.6/dist-packages/clikit/console_application.py\u001b[0m:\u001b[1m110\u001b[0m in \u001b[36mresolve_command\u001b[0m\n",
            "      return self._config.command_resolver.resolve(args, self)\n",
            "\n",
            "  \u001b[33m 8\u001b[0m  \u001b[39;1m/usr/local/lib/python3.6/dist-packages/clikit/resolver/default_resolver.py\u001b[0m:\u001b[1m34\u001b[0m in \u001b[36mresolve\u001b[0m\n",
            "      return self.create_resolved_command(result)\n",
            "\n",
            "  \u001b[33m 7\u001b[0m  \u001b[39;1m/usr/local/lib/python3.6/dist-packages/clikit/resolver/default_resolver.py\u001b[0m:\u001b[1m166\u001b[0m in \u001b[36mcreate_resolved_command\u001b[0m\n",
            "      if not result.is_parsable():\n",
            "\n",
            "  \u001b[33m 6\u001b[0m  \u001b[39;1m/usr/local/lib/python3.6/dist-packages/clikit/resolver/resolve_result.py\u001b[0m:\u001b[1m43\u001b[0m in \u001b[36mis_parsable\u001b[0m\n",
            "      self._parse()\n",
            "\n",
            "  \u001b[33m 5\u001b[0m  \u001b[39;1m/usr/local/lib/python3.6/dist-packages/clikit/resolver/resolve_result.py\u001b[0m:\u001b[1m49\u001b[0m in \u001b[36m_parse\u001b[0m\n",
            "      self._parsed_args = self._command.parse(self._raw_args)\n",
            "\n",
            "  \u001b[33m 4\u001b[0m  \u001b[39;1m/usr/local/lib/python3.6/dist-packages/clikit/api/command/command.py\u001b[0m:\u001b[1m113\u001b[0m in \u001b[36mparse\u001b[0m\n",
            "      return self._config.args_parser.parse(args, self._args_format, lenient)\n",
            "\n",
            "  \u001b[33m 3\u001b[0m  \u001b[39;1m/usr/local/lib/python3.6/dist-packages/clikit/args/default_args_parser.py\u001b[0m:\u001b[1m53\u001b[0m in \u001b[36mparse\u001b[0m\n",
            "      self._parse(args, _fmt, lenient)\n",
            "\n",
            "  \u001b[33m 2\u001b[0m  \u001b[39;1m/usr/local/lib/python3.6/dist-packages/clikit/args/default_args_parser.py\u001b[0m:\u001b[1m101\u001b[0m in \u001b[36m_parse\u001b[0m\n",
            "      self._parse_long_option(token, tokens, fmt, lenient)\n",
            "\n",
            "  \u001b[33m 1\u001b[0m  \u001b[39;1m/usr/local/lib/python3.6/dist-packages/clikit/args/default_args_parser.py\u001b[0m:\u001b[1m247\u001b[0m in \u001b[36m_parse_long_option\u001b[0m\n",
            "      self._add_long_option(name, None, tokens, fmt, lenient)\n",
            "\n",
            "  \u001b[31;1mNoSuchOptionException\u001b[0m\n",
            "\n",
            "  \u001b[1mThe \"--git\" option does not exist.\u001b[0m\n",
            "\n",
            "  at \u001b[32m/usr/local/lib/python3.6/dist-packages/clikit/args/default_args_parser.py\u001b[0m:\u001b[1m300\u001b[0m in \u001b[36m_add_long_option\u001b[0m\n",
            "      \u001b[39;2m296\u001b[0m\u001b[39;2m│\u001b[0m \u001b[39m    \u001b[0m\u001b[35;1mdef \u001b[0m\u001b[39m_add_long_option\u001b[0m\u001b[39;2m(\u001b[0m\n",
            "      \u001b[39;2m297\u001b[0m\u001b[39;2m│\u001b[0m \u001b[39m        \u001b[0m\u001b[39;1mself\u001b[0m\u001b[39;2m, \u001b[0m\u001b[39mname\u001b[0m\u001b[39;2m, \u001b[0m\u001b[39mvalue\u001b[0m\u001b[39;2m, \u001b[0m\u001b[39mtokens\u001b[0m\u001b[39;2m, \u001b[0m\u001b[39mfmt\u001b[0m\u001b[39;2m, \u001b[0m\u001b[39mlenient\u001b[0m\n",
            "      \u001b[39;2m298\u001b[0m\u001b[39;2m│\u001b[0m \u001b[39m    \u001b[0m\u001b[39;2m):  \u001b[0m\u001b[39;2;3m# type: (str, Optional[str], List[str], ArgsFormat, bool) -> None\u001b[0m\n",
            "      \u001b[39;2m299\u001b[0m\u001b[39;2m│\u001b[0m \u001b[39m        \u001b[0m\u001b[35;1mif not \u001b[0m\u001b[39mfmt\u001b[0m\u001b[39;2m.\u001b[0m\u001b[39mhas_option\u001b[0m\u001b[39;2m(\u001b[0m\u001b[39mname\u001b[0m\u001b[39;2m):\u001b[0m\n",
            "    \u001b[31;1m→\u001b[0m \u001b[39;1m300\u001b[0m\u001b[39;2m│\u001b[0m \u001b[39m            \u001b[0m\u001b[35;1mraise \u001b[0m\u001b[39mNoSuchOptionException\u001b[0m\u001b[39;2m(\u001b[0m\u001b[39mname\u001b[0m\u001b[39;2m)\u001b[0m\n",
            "      \u001b[39;2m301\u001b[0m\u001b[39;2m│\u001b[0m \n",
            "      \u001b[39;2m302\u001b[0m\u001b[39;2m│\u001b[0m \u001b[39m        option \u001b[0m\u001b[39;2m= \u001b[0m\u001b[39mfmt\u001b[0m\u001b[39;2m.\u001b[0m\u001b[39mget_option\u001b[0m\u001b[39;2m(\u001b[0m\u001b[39mname\u001b[0m\u001b[39;2m)\u001b[0m\n",
            "      \u001b[39;2m303\u001b[0m\u001b[39;2m│\u001b[0m \n",
            "      \u001b[39;2m304\u001b[0m\u001b[39;2m│\u001b[0m \u001b[39m        \u001b[0m\u001b[35;1mif \u001b[0m\u001b[39mvalue \u001b[0m\u001b[35;1mis False\u001b[0m\u001b[39;2m:\u001b[0m\n"
          ],
          "name": "stdout"
        }
      ]
    },
    {
      "cell_type": "code",
      "metadata": {
        "colab": {
          "base_uri": "https://localhost:8080/"
        },
        "id": "tnZN0jVU0HPK",
        "outputId": "efef0ba2-d204-4530-b0cc-7b7b0e3de946"
      },
      "source": [
        "!pwd"
      ],
      "execution_count": 9,
      "outputs": [
        {
          "output_type": "stream",
          "text": [
            "/content\n"
          ],
          "name": "stdout"
        }
      ]
    },
    {
      "cell_type": "code",
      "metadata": {
        "id": "Vxvn_4sT0bWP"
      },
      "source": [
        "!cd dnn-binary-code-similarity/"
      ],
      "execution_count": 10,
      "outputs": []
    },
    {
      "cell_type": "code",
      "metadata": {
        "colab": {
          "base_uri": "https://localhost:8080/"
        },
        "id": "Xiqr-Pd20fmP",
        "outputId": "f913ba64-76cc-4a8d-ec7d-fe472a88638f"
      },
      "source": [
        "!poetry init"
      ],
      "execution_count": 11,
      "outputs": [
        {
          "output_type": "stream",
          "text": [
            "\n",
            "This command will guide you through creating your \u001b[34mpyproject.toml\u001b[0m config.\n",
            "\n",
            "\u001b[34mPackage name [\u001b[0m\u001b[32mcontent\u001b[0m\u001b[34m]: \u001b[0m first\n",
            "\u001b[34mVersion [\u001b[0m\u001b[32m0.1.0\u001b[0m\u001b[34m]: \u001b[0m 1\n",
            "\u001b[34mDescription [\u001b[0m\u001b[34m]: \u001b[0m nothing\n",
            "\u001b[34mAuthor [\u001b[0m\u001b[32mNone\u001b[0m\u001b[34m, n to skip]: \u001b[0m n\n",
            "\u001b[34mLicense [\u001b[0m\u001b[34m]: \u001b[0m dont know\n",
            "\u001b[34mCompatible Python versions [\u001b[0m\u001b[32m^3.6\u001b[0m\u001b[34m]: \u001b[0m yes\n",
            "\n",
            "\u001b[34mWould you like to define your main dependencies interactively? (yes/no)\u001b[0m [\u001b[32myes\u001b[0m] yes\n",
            "You can specify a package in the following forms:\n",
            "  - A single name (\u001b[1mrequests\u001b[0m)\n",
            "  - A name and a constraint (\u001b[1mrequests@^2.23.0\u001b[0m)\n",
            "  - A git url (\u001b[1mgit+https://github.com/python-poetry/poetry.git\u001b[0m)\n",
            "  - A git url with a revision (\u001b[1mgit+https://github.com/python-poetry/poetry.git#develop\u001b[0m)\n",
            "  - A file path (\u001b[1m../my-package/my-package.whl\u001b[0m)\n",
            "  - A directory (\u001b[1m../my-package/\u001b[0m)\n",
            "  - A url (\u001b[1mhttps://example.com/packages/my-package-0.1.0.tar.gz\u001b[0m)\n",
            "\n",
            "\u001b[34mSearch for package to add (or leave blank to continue):\u001b[0m \n",
            "\n",
            "\u001b[34mWould you like to define your development dependencies interactively? (yes/no)\u001b[0m [\u001b[32myes\u001b[0m] yes\n",
            "\u001b[34mSearch for package to add (or leave blank to continue):\u001b[0m \n",
            "\n",
            "\u001b[34mGenerated file\u001b[0m\n",
            "\n",
            "[tool.poetry]\n",
            "name = \"first\"\n",
            "version = \"1\"\n",
            "description = \"nothing\"\n",
            "authors = [\"Your Name <you@example.com>\"]\n",
            "license = \"dont know\"\n",
            "\n",
            "[tool.poetry.dependencies]\n",
            "python = \"yes\"\n",
            "\n",
            "[tool.poetry.dev-dependencies]\n",
            "\n",
            "[build-system]\n",
            "requires = [\"poetry-core>=1.0.0\"]\n",
            "build-backend = \"poetry.core.masonry.api\"\n",
            "\n",
            "\n",
            "\u001b[34mDo you confirm generation? (yes/no)\u001b[0m [\u001b[32myes\u001b[0m] yes\n"
          ],
          "name": "stdout"
        }
      ]
    },
    {
      "cell_type": "code",
      "metadata": {
        "colab": {
          "base_uri": "https://localhost:8080/"
        },
        "id": "u-7pIbXw0o7W",
        "outputId": "2090c3a8-3ad2-45f6-cddb-99a67a7d4e2d"
      },
      "source": [
        "!poetry install"
      ],
      "execution_count": 12,
      "outputs": [
        {
          "output_type": "stream",
          "text": [
            "\n",
            "  \u001b[31;1mParseConstraintError\u001b[0m\n",
            "\n",
            "  \u001b[1mCould not parse version constraint: yes\u001b[0m\n",
            "\n",
            "  at \u001b[32m/usr/local/lib/python3.6/dist-packages/poetry/core/semver/__init__.py\u001b[0m:\u001b[1m150\u001b[0m in \u001b[36mparse_single_constraint\u001b[0m\n",
            "      \u001b[39;2m146\u001b[0m\u001b[39;2m│\u001b[0m \u001b[39;2m        \u001b[0m\u001b[35;1melse\u001b[0m\u001b[39;2m:\u001b[0m\n",
            "      \u001b[39;2m147\u001b[0m\u001b[39;2m│\u001b[0m \u001b[39m            \u001b[0m\u001b[35;1mreturn \u001b[0m\u001b[39mversion\u001b[0m\n",
            "      \u001b[39;2m148\u001b[0m\u001b[39;2m│\u001b[0m \n",
            "      \u001b[39;2m149\u001b[0m\u001b[39;2m│\u001b[0m \u001b[39m    \u001b[0m\u001b[35;1mraise \u001b[0m\u001b[39mParseConstraintError\u001b[0m\u001b[39;2m(\u001b[0m\n",
            "    \u001b[31;1m→\u001b[0m \u001b[39;1m150\u001b[0m\u001b[39;2m│\u001b[0m \u001b[39m        \u001b[0m\u001b[33;1m\"Could not parse version constraint: {}\"\u001b[0m\u001b[39;2m.\u001b[0m\u001b[39;1mformat\u001b[0m\u001b[39;2m(\u001b[0m\u001b[39mconstraint\u001b[0m\u001b[39;2m)\u001b[0m\n",
            "      \u001b[39;2m151\u001b[0m\u001b[39;2m│\u001b[0m \u001b[39m    \u001b[0m\u001b[39;2m)\u001b[0m\n",
            "      \u001b[39;2m152\u001b[0m\u001b[39;2m│\u001b[0m \n"
          ],
          "name": "stdout"
        }
      ]
    },
    {
      "cell_type": "code",
      "metadata": {
        "colab": {
          "base_uri": "https://localhost:8080/"
        },
        "id": "1kuUvtOM2XCV",
        "outputId": "0203df31-86df-43bd-cb20-5e6af6193044"
      },
      "source": [
        "!pwd"
      ],
      "execution_count": 13,
      "outputs": [
        {
          "output_type": "stream",
          "text": [
            "/content\n"
          ],
          "name": "stdout"
        }
      ]
    },
    {
      "cell_type": "code",
      "metadata": {
        "colab": {
          "base_uri": "https://localhost:8080/"
        },
        "id": "i1tN_fcH26vW",
        "outputId": "034c7959-8f82-49dc-c85d-7c97002e0f88"
      },
      "source": [
        "cd dnn-binary-code-similarity/"
      ],
      "execution_count": 14,
      "outputs": [
        {
          "output_type": "stream",
          "text": [
            "/content/dnn-binary-code-similarity\n"
          ],
          "name": "stdout"
        }
      ]
    },
    {
      "cell_type": "code",
      "metadata": {
        "colab": {
          "base_uri": "https://localhost:8080/"
        },
        "id": "lXHbzos729PG",
        "outputId": "4e845058-5270-452b-a899-06003ce5db8d"
      },
      "source": [
        "!pwd"
      ],
      "execution_count": 15,
      "outputs": [
        {
          "output_type": "stream",
          "text": [
            "/content/dnn-binary-code-similarity\n"
          ],
          "name": "stdout"
        }
      ]
    },
    {
      "cell_type": "code",
      "metadata": {
        "colab": {
          "base_uri": "https://localhost:8080/"
        },
        "id": "g3Ke9iPj2-W2",
        "outputId": "0e480754-42e0-41b4-99aa-95ecaa69cbe9"
      },
      "source": [
        "!poetry new myenv"
      ],
      "execution_count": 16,
      "outputs": [
        {
          "output_type": "stream",
          "text": [
            "Created package \u001b[34mmyenv\u001b[0m in \u001b[34mmyenv\u001b[0m\n"
          ],
          "name": "stdout"
        }
      ]
    },
    {
      "cell_type": "code",
      "metadata": {
        "colab": {
          "base_uri": "https://localhost:8080/"
        },
        "id": "XflihfNM3Bse",
        "outputId": "6a19c100-4f19-4dc9-dfca-254480a140ab"
      },
      "source": [
        "!poetry install"
      ],
      "execution_count": 17,
      "outputs": [
        {
          "output_type": "stream",
          "text": [
            "\n",
            "  \u001b[31;1mParseConstraintError\u001b[0m\n",
            "\n",
            "  \u001b[1mCould not parse version constraint: yes\u001b[0m\n",
            "\n",
            "  at \u001b[32m/usr/local/lib/python3.6/dist-packages/poetry/core/semver/__init__.py\u001b[0m:\u001b[1m150\u001b[0m in \u001b[36mparse_single_constraint\u001b[0m\n",
            "      \u001b[39;2m146\u001b[0m\u001b[39;2m│\u001b[0m \u001b[39;2m        \u001b[0m\u001b[35;1melse\u001b[0m\u001b[39;2m:\u001b[0m\n",
            "      \u001b[39;2m147\u001b[0m\u001b[39;2m│\u001b[0m \u001b[39m            \u001b[0m\u001b[35;1mreturn \u001b[0m\u001b[39mversion\u001b[0m\n",
            "      \u001b[39;2m148\u001b[0m\u001b[39;2m│\u001b[0m \n",
            "      \u001b[39;2m149\u001b[0m\u001b[39;2m│\u001b[0m \u001b[39m    \u001b[0m\u001b[35;1mraise \u001b[0m\u001b[39mParseConstraintError\u001b[0m\u001b[39;2m(\u001b[0m\n",
            "    \u001b[31;1m→\u001b[0m \u001b[39;1m150\u001b[0m\u001b[39;2m│\u001b[0m \u001b[39m        \u001b[0m\u001b[33;1m\"Could not parse version constraint: {}\"\u001b[0m\u001b[39;2m.\u001b[0m\u001b[39;1mformat\u001b[0m\u001b[39;2m(\u001b[0m\u001b[39mconstraint\u001b[0m\u001b[39;2m)\u001b[0m\n",
            "      \u001b[39;2m151\u001b[0m\u001b[39;2m│\u001b[0m \u001b[39m    \u001b[0m\u001b[39;2m)\u001b[0m\n",
            "      \u001b[39;2m152\u001b[0m\u001b[39;2m│\u001b[0m \n"
          ],
          "name": "stdout"
        }
      ]
    },
    {
      "cell_type": "code",
      "metadata": {
        "colab": {
          "base_uri": "https://localhost:8080/"
        },
        "id": "ZmFeYJ433NRF",
        "outputId": "87dd33df-9ce6-4ded-abb2-7a5368829338"
      },
      "source": [
        "!unzip data.zip"
      ],
      "execution_count": 18,
      "outputs": [
        {
          "output_type": "stream",
          "text": [
            "Archive:  data.zip\n",
            "   creating: data/\n",
            "  inflating: data/valid.json         \n",
            "  inflating: data/test.json          \n",
            "  inflating: data/class_perm.npy     \n",
            "   creating: data/acfgSSL_7/\n",
            "  inflating: data/acfgSSL_7/openssl-1.0.1u-mips-linux-O1v54.json  \n",
            "  inflating: data/acfgSSL_7/openssl-1.0.1f-i586-linux-O0v54.json  \n",
            "  inflating: data/acfgSSL_7/openssl-1.0.1u-armeb-linux-O0v54.json  \n",
            "  inflating: data/acfgSSL_7/openssl-1.0.1u-mips-linux-O2v54.json  \n",
            "  inflating: data/acfgSSL_7/openssl-1.0.1u-i586-linux-O2v54.json  \n",
            "  inflating: data/acfgSSL_7/openssl-1.0.1f-mips-linux-O1v54.json  \n",
            "  inflating: data/acfgSSL_7/openssl-1.0.1f-mips-linux-O0v54.json  \n",
            "  inflating: data/acfgSSL_7/openssl-1.0.1f-i586-linux-O1v54.json  \n",
            "  inflating: data/acfgSSL_7/openssl-1.0.1u-mips-linux-O0v54.json  \n",
            "  inflating: data/acfgSSL_7/openssl-1.0.1f-i586-linux-O3v54.json  \n",
            "  inflating: data/acfgSSL_7/openssl-1.0.1u-i586-linux-O0v54.json  \n",
            "  inflating: data/acfgSSL_7/openssl-1.0.1u-armeb-linux-O2v54.json  \n",
            "  inflating: data/acfgSSL_7/openssl-1.0.1f-armeb-linux-O3v54.json  \n",
            "  inflating: data/acfgSSL_7/openssl-1.0.1u-mips-linux-O3v54.json  \n",
            "  inflating: data/acfgSSL_7/openssl-1.0.1u-i586-linux-O1v54.json  \n",
            "  inflating: data/acfgSSL_7/openssl-1.0.1u-armeb-linux-O1v54.json  \n",
            "  inflating: data/acfgSSL_7/openssl-1.0.1f-mips-linux-O3v54.json  \n",
            "  inflating: data/acfgSSL_7/openssl-1.0.1f-i586-linux-O2v54.json  \n",
            "  inflating: data/acfgSSL_7/openssl-1.0.1f-armeb-linux-O0v54.json  \n",
            "  inflating: data/acfgSSL_7/openssl-1.0.1f-armeb-linux-O2v54.json  \n",
            "  inflating: data/acfgSSL_7/openssl-1.0.1f-armeb-linux-O1v54.json  \n",
            "  inflating: data/acfgSSL_7/openssl-1.0.1u-i586-linux-O3v54.json  \n",
            "  inflating: data/acfgSSL_7/openssl-1.0.1u-armeb-linux-O3v54.json  \n",
            "  inflating: data/acfgSSL_7/openssl-1.0.1f-mips-linux-O2v54.json  \n"
          ],
          "name": "stdout"
        }
      ]
    },
    {
      "cell_type": "code",
      "metadata": {
        "colab": {
          "base_uri": "https://localhost:8080/"
        },
        "id": "gSTBCPdk3zol",
        "outputId": "3759335f-99fd-4ad2-d71a-15988818d67a"
      },
      "source": [
        "!pip install -r requirements.txt\r\n"
      ],
      "execution_count": 19,
      "outputs": [
        {
          "output_type": "stream",
          "text": [
            "Collecting backports.weakref==1.0.post1\n",
            "  Downloading https://files.pythonhosted.org/packages/88/ec/f598b633c3d5ffe267aaada57d961c94fdfa183c5c3ebda2b6d151943db6/backports.weakref-1.0.post1-py2.py3-none-any.whl\n",
            "Collecting bleach==1.5.0\n",
            "  Downloading https://files.pythonhosted.org/packages/33/70/86c5fec937ea4964184d4d6c4f0b9551564f821e1c3575907639036d9b90/bleach-1.5.0-py2.py3-none-any.whl\n",
            "Collecting enum34==1.1.6\n",
            "  Downloading https://files.pythonhosted.org/packages/af/42/cb9355df32c69b553e72a2e28daee25d1611d2c0d9c272aa1d34204205b2/enum34-1.1.6-py3-none-any.whl\n",
            "Collecting funcsigs==1.0.2\n",
            "  Downloading https://files.pythonhosted.org/packages/69/cb/f5be453359271714c01b9bd06126eaf2e368f1fddfff30818754b5ac2328/funcsigs-1.0.2-py2.py3-none-any.whl\n",
            "\u001b[31mERROR: Could not find a version that satisfies the requirement futures==3.2.0 (from -r requirements.txt (line 5)) (from versions: 0.2.python3, 0.1, 0.2, 1.0, 2.0, 2.1, 2.1.1, 2.1.2, 2.1.3, 2.1.4, 2.1.5, 2.1.6, 2.2.0, 3.0.0, 3.0.1, 3.0.2, 3.0.3, 3.0.4, 3.0.5, 3.1.0, 3.1.1)\u001b[0m\n",
            "\u001b[31mERROR: No matching distribution found for futures==3.2.0 (from -r requirements.txt (line 5))\u001b[0m\n"
          ],
          "name": "stdout"
        }
      ]
    },
    {
      "cell_type": "code",
      "metadata": {
        "colab": {
          "base_uri": "https://localhost:8080/"
        },
        "id": "cP5skCt_37-x",
        "outputId": "9424f088-6822-4e28-fd5a-21dcb04005b9"
      },
      "source": [
        "!pip install futures"
      ],
      "execution_count": 20,
      "outputs": [
        {
          "output_type": "stream",
          "text": [
            "Collecting futures\n",
            "  Downloading https://files.pythonhosted.org/packages/05/80/f41cca0ea1ff69bce7e7a7d76182b47bb4e1a494380a532af3e8ee70b9ec/futures-3.1.1-py3-none-any.whl\n",
            "Installing collected packages: futures\n",
            "Successfully installed futures-3.1.1\n"
          ],
          "name": "stdout"
        }
      ]
    },
    {
      "cell_type": "code",
      "metadata": {
        "colab": {
          "base_uri": "https://localhost:8080/"
        },
        "id": "BMVUTVMY4A-l",
        "outputId": "3ac7d495-b42b-486e-9cfd-d5225ce221c0"
      },
      "source": [
        "!pip install -r requirements.txt"
      ],
      "execution_count": 21,
      "outputs": [
        {
          "output_type": "stream",
          "text": [
            "Collecting backports.weakref==1.0.post1\n",
            "  Using cached https://files.pythonhosted.org/packages/88/ec/f598b633c3d5ffe267aaada57d961c94fdfa183c5c3ebda2b6d151943db6/backports.weakref-1.0.post1-py2.py3-none-any.whl\n",
            "Collecting bleach==1.5.0\n",
            "  Using cached https://files.pythonhosted.org/packages/33/70/86c5fec937ea4964184d4d6c4f0b9551564f821e1c3575907639036d9b90/bleach-1.5.0-py2.py3-none-any.whl\n",
            "Collecting enum34==1.1.6\n",
            "  Using cached https://files.pythonhosted.org/packages/af/42/cb9355df32c69b553e72a2e28daee25d1611d2c0d9c272aa1d34204205b2/enum34-1.1.6-py3-none-any.whl\n",
            "Collecting funcsigs==1.0.2\n",
            "  Using cached https://files.pythonhosted.org/packages/69/cb/f5be453359271714c01b9bd06126eaf2e368f1fddfff30818754b5ac2328/funcsigs-1.0.2-py2.py3-none-any.whl\n",
            "\u001b[31mERROR: Could not find a version that satisfies the requirement futures==3.2.0 (from -r requirements.txt (line 5)) (from versions: 0.2.python3, 0.1, 0.2, 1.0, 2.0, 2.1, 2.1.1, 2.1.2, 2.1.3, 2.1.4, 2.1.5, 2.1.6, 2.2.0, 3.0.0, 3.0.1, 3.0.2, 3.0.3, 3.0.4, 3.0.5, 3.1.0, 3.1.1)\u001b[0m\n",
            "\u001b[31mERROR: No matching distribution found for futures==3.2.0 (from -r requirements.txt (line 5))\u001b[0m\n"
          ],
          "name": "stdout"
        }
      ]
    },
    {
      "cell_type": "code",
      "metadata": {
        "colab": {
          "base_uri": "https://localhost:8080/"
        },
        "id": "sb3SV2aJ4GFP",
        "outputId": "567dbae6-9443-42a8-cdc0-d3bce48139ff"
      },
      "source": [
        "!pip install -r requirements.txt"
      ],
      "execution_count": 22,
      "outputs": [
        {
          "output_type": "stream",
          "text": [
            "Collecting backports.weakref==1.0.post1\n",
            "  Using cached https://files.pythonhosted.org/packages/88/ec/f598b633c3d5ffe267aaada57d961c94fdfa183c5c3ebda2b6d151943db6/backports.weakref-1.0.post1-py2.py3-none-any.whl\n",
            "Collecting bleach==1.5.0\n",
            "  Using cached https://files.pythonhosted.org/packages/33/70/86c5fec937ea4964184d4d6c4f0b9551564f821e1c3575907639036d9b90/bleach-1.5.0-py2.py3-none-any.whl\n",
            "Collecting enum34==1.1.6\n",
            "  Using cached https://files.pythonhosted.org/packages/af/42/cb9355df32c69b553e72a2e28daee25d1611d2c0d9c272aa1d34204205b2/enum34-1.1.6-py3-none-any.whl\n",
            "\u001b[31mERROR: Could not find a version that satisfies the requirement funcsigs==1.0.2S (from -r requirements.txt (line 4)) (from versions: 0.1, 0.2, 0.3, 0.4, 1.0.0, 1.0.1, 1.0.2)\u001b[0m\n",
            "\u001b[31mERROR: No matching distribution found for funcsigs==1.0.2S (from -r requirements.txt (line 4))\u001b[0m\n"
          ],
          "name": "stdout"
        }
      ]
    },
    {
      "cell_type": "code",
      "metadata": {
        "colab": {
          "base_uri": "https://localhost:8080/"
        },
        "id": "_avT1Qok4TeF",
        "outputId": "9b743969-9e53-4080-d513-b2a7c1e45bf1"
      },
      "source": [
        "!pip install -r requirements.txt"
      ],
      "execution_count": 23,
      "outputs": [
        {
          "output_type": "stream",
          "text": [
            "Collecting backports.weakref==1.0.post1\n",
            "  Using cached https://files.pythonhosted.org/packages/88/ec/f598b633c3d5ffe267aaada57d961c94fdfa183c5c3ebda2b6d151943db6/backports.weakref-1.0.post1-py2.py3-none-any.whl\n",
            "Collecting bleach==1.5.0\n",
            "  Using cached https://files.pythonhosted.org/packages/33/70/86c5fec937ea4964184d4d6c4f0b9551564f821e1c3575907639036d9b90/bleach-1.5.0-py2.py3-none-any.whl\n",
            "Collecting enum34==1.1.6\n",
            "  Using cached https://files.pythonhosted.org/packages/af/42/cb9355df32c69b553e72a2e28daee25d1611d2c0d9c272aa1d34204205b2/enum34-1.1.6-py3-none-any.whl\n",
            "Collecting funcsigs==1.0.2\n",
            "  Using cached https://files.pythonhosted.org/packages/69/cb/f5be453359271714c01b9bd06126eaf2e368f1fddfff30818754b5ac2328/funcsigs-1.0.2-py2.py3-none-any.whl\n",
            "Collecting html5lib==0.9999999\n",
            "\u001b[?25l  Downloading https://files.pythonhosted.org/packages/ae/ae/bcb60402c60932b32dfaf19bb53870b29eda2cd17551ba5639219fb5ebf9/html5lib-0.9999999.tar.gz (889kB)\n",
            "\u001b[K     |████████████████████████████████| 890kB 5.5MB/s \n",
            "\u001b[?25hCollecting Markdown==2.6.10\n",
            "\u001b[?25l  Downloading https://files.pythonhosted.org/packages/f0/68/d7d5503adbd302fb8e44c8ece2b8afff467a888efb8a0a116c432cc4f4fe/Markdown-2.6.10.zip (414kB)\n",
            "\u001b[K     |████████████████████████████████| 419kB 16.6MB/s \n",
            "\u001b[?25hCollecting mock==2.0.0\n",
            "\u001b[?25l  Downloading https://files.pythonhosted.org/packages/e6/35/f187bdf23be87092bd0f1200d43d23076cee4d0dec109f195173fd3ebc79/mock-2.0.0-py2.py3-none-any.whl (56kB)\n",
            "\u001b[K     |████████████████████████████████| 61kB 5.8MB/s \n",
            "\u001b[?25hCollecting numpy==1.13.3\n",
            "\u001b[?25l  Downloading https://files.pythonhosted.org/packages/57/a7/e3e6bd9d595125e1abbe162e323fd2d06f6f6683185294b79cd2cdb190d5/numpy-1.13.3-cp36-cp36m-manylinux1_x86_64.whl (17.0MB)\n",
            "\u001b[K     |████████████████████████████████| 17.0MB 243kB/s \n",
            "\u001b[?25hCollecting pbr==3.1.1\n",
            "\u001b[?25l  Downloading https://files.pythonhosted.org/packages/0c/5d/b077dbf309993d52c1d71e6bf6fe443a8029ea215135ebbe0b1b10e7aefc/pbr-3.1.1-py2.py3-none-any.whl (99kB)\n",
            "\u001b[K     |████████████████████████████████| 102kB 9.5MB/s \n",
            "\u001b[31mERROR: Could not find a version that satisfies the requirement pkg-resources==0.0.0 (from -r requirements.txt (line 10)) (from versions: none)\u001b[0m\n",
            "\u001b[31mERROR: No matching distribution found for pkg-resources==0.0.0 (from -r requirements.txt (line 10))\u001b[0m\n",
            "\u001b[?25h"
          ],
          "name": "stdout"
        }
      ]
    },
    {
      "cell_type": "code",
      "metadata": {
        "colab": {
          "base_uri": "https://localhost:8080/",
          "height": 1000
        },
        "id": "wQHX2Efi4ml9",
        "outputId": "f14413a2-f14c-44bb-9a5f-eebf8ade88a7"
      },
      "source": [
        "!pip install -r requirements.txt"
      ],
      "execution_count": 24,
      "outputs": [
        {
          "output_type": "stream",
          "text": [
            "Collecting backports.weakref==1.0.post1\n",
            "  Using cached https://files.pythonhosted.org/packages/88/ec/f598b633c3d5ffe267aaada57d961c94fdfa183c5c3ebda2b6d151943db6/backports.weakref-1.0.post1-py2.py3-none-any.whl\n",
            "Collecting bleach==1.5.0\n",
            "  Using cached https://files.pythonhosted.org/packages/33/70/86c5fec937ea4964184d4d6c4f0b9551564f821e1c3575907639036d9b90/bleach-1.5.0-py2.py3-none-any.whl\n",
            "Collecting enum34==1.1.6\n",
            "  Using cached https://files.pythonhosted.org/packages/af/42/cb9355df32c69b553e72a2e28daee25d1611d2c0d9c272aa1d34204205b2/enum34-1.1.6-py3-none-any.whl\n",
            "Collecting funcsigs==1.0.2\n",
            "  Using cached https://files.pythonhosted.org/packages/69/cb/f5be453359271714c01b9bd06126eaf2e368f1fddfff30818754b5ac2328/funcsigs-1.0.2-py2.py3-none-any.whl\n",
            "Collecting html5lib==0.9999999\n",
            "  Using cached https://files.pythonhosted.org/packages/ae/ae/bcb60402c60932b32dfaf19bb53870b29eda2cd17551ba5639219fb5ebf9/html5lib-0.9999999.tar.gz\n",
            "Collecting Markdown==2.6.10\n",
            "  Using cached https://files.pythonhosted.org/packages/f0/68/d7d5503adbd302fb8e44c8ece2b8afff467a888efb8a0a116c432cc4f4fe/Markdown-2.6.10.zip\n",
            "Collecting mock==2.0.0\n",
            "  Using cached https://files.pythonhosted.org/packages/e6/35/f187bdf23be87092bd0f1200d43d23076cee4d0dec109f195173fd3ebc79/mock-2.0.0-py2.py3-none-any.whl\n",
            "Collecting numpy==1.13.3\n",
            "  Using cached https://files.pythonhosted.org/packages/57/a7/e3e6bd9d595125e1abbe162e323fd2d06f6f6683185294b79cd2cdb190d5/numpy-1.13.3-cp36-cp36m-manylinux1_x86_64.whl\n",
            "Collecting pbr==3.1.1\n",
            "  Using cached https://files.pythonhosted.org/packages/0c/5d/b077dbf309993d52c1d71e6bf6fe443a8029ea215135ebbe0b1b10e7aefc/pbr-3.1.1-py2.py3-none-any.whl\n",
            "Collecting protobuf==3.5.0.post1\n",
            "\u001b[?25l  Downloading https://files.pythonhosted.org/packages/98/74/0df1aeb6fdda6a62ebd2f73bdb622683f5a31701ea0935db7699e0d42b09/protobuf-3.5.0.post1-cp36-cp36m-manylinux1_x86_64.whl (6.4MB)\n",
            "\u001b[K     |████████████████████████████████| 6.4MB 3.2MB/s \n",
            "\u001b[?25hCollecting scikit-learn==0.19.1\n",
            "\u001b[?25l  Downloading https://files.pythonhosted.org/packages/3d/2d/9fbc7baa5f44bc9e88ffb7ed32721b879bfa416573e85031e16f52569bc9/scikit_learn-0.19.1-cp36-cp36m-manylinux1_x86_64.whl (12.4MB)\n",
            "\u001b[K     |████████████████████████████████| 12.4MB 19.9MB/s \n",
            "\u001b[?25hCollecting scipy==1.0.0\n",
            "\u001b[?25l  Downloading https://files.pythonhosted.org/packages/d8/5e/caa01ba7be11600b6a9d39265440d7b3be3d69206da887c42bef049521f2/scipy-1.0.0-cp36-cp36m-manylinux1_x86_64.whl (50.0MB)\n",
            "\u001b[K     |████████████████████████████████| 50.0MB 130kB/s \n",
            "\u001b[?25hCollecting six==1.11.0\n",
            "  Downloading https://files.pythonhosted.org/packages/67/4b/141a581104b1f6397bfa78ac9d43d8ad29a7ca43ea90a2d863fe3056e86a/six-1.11.0-py2.py3-none-any.whl\n",
            "Requirement already satisfied: sklearn==0.0 in /usr/local/lib/python3.6/dist-packages (from -r requirements.txt (line 14)) (0.0)\n",
            "Collecting tensorflow-gpu==1.4.1\n",
            "\u001b[?25l  Downloading https://files.pythonhosted.org/packages/e3/d3/4a356db5b6a2c9dcb30011280bc065cf51de1e4ab5a5fee44eb460a98449/tensorflow_gpu-1.4.1-cp36-cp36m-manylinux1_x86_64.whl (170.3MB)\n",
            "\u001b[K     |████████████████████████████████| 170.3MB 74kB/s \n",
            "\u001b[?25hCollecting tensorflow-tensorboard==0.4.0rc3\n",
            "\u001b[?25l  Downloading https://files.pythonhosted.org/packages/68/82/6b00646b7275c3da90107333df7fbecaae72a9bfd3139fedd11686084d90/tensorflow_tensorboard-0.4.0rc3-py3-none-any.whl (1.7MB)\n",
            "\u001b[K     |████████████████████████████████| 1.7MB 25.9MB/s \n",
            "\u001b[?25hCollecting Werkzeug==0.13\n",
            "\u001b[?25l  Downloading https://files.pythonhosted.org/packages/e7/dc/e41d4d6adf0cd3f02b0bdf02fcddee77a2ef02c0b1d5eaa517308333d673/Werkzeug-0.13-py2.py3-none-any.whl (311kB)\n",
            "\u001b[K     |████████████████████████████████| 317kB 28.2MB/s \n",
            "\u001b[?25hRequirement already satisfied: setuptools in /usr/local/lib/python3.6/dist-packages (from protobuf==3.5.0.post1->-r requirements.txt (line 10)) (53.0.0)\n",
            "Requirement already satisfied: wheel>=0.26 in /usr/local/lib/python3.6/dist-packages (from tensorflow-gpu==1.4.1->-r requirements.txt (line 15)) (0.36.2)\n",
            "Building wheels for collected packages: html5lib, Markdown\n",
            "  Building wheel for html5lib (setup.py) ... \u001b[?25l\u001b[?25hdone\n",
            "  Created wheel for html5lib: filename=html5lib-0.9999999-cp36-none-any.whl size=107222 sha256=fbbfe534b7fa6ef83694a59cc4a835206a3109ada973291c0f9a21a80aa7e1de\n",
            "  Stored in directory: /root/.cache/pip/wheels/50/ae/f9/d2b189788efcf61d1ee0e36045476735c838898eef1cad6e29\n",
            "  Building wheel for Markdown (setup.py) ... \u001b[?25l\u001b[?25hdone\n",
            "  Created wheel for Markdown: filename=Markdown-2.6.10-cp36-none-any.whl size=77091 sha256=e682a12416f499fe185fd95ee41e1ba3b98f3e2a6fe7c7d82894bcaefe68df96\n",
            "  Stored in directory: /root/.cache/pip/wheels/13/b1/c7/60d36fe0c9cf15b9b95c2dc8e4ba33acc782d275a13e8e95f1\n",
            "Successfully built html5lib Markdown\n",
            "\u001b[31mERROR: yellowbrick 0.9.1 has requirement scikit-learn>=0.20, but you'll have scikit-learn 0.19.1 which is incompatible.\u001b[0m\n",
            "\u001b[31mERROR: xarray 0.15.1 has requirement numpy>=1.15, but you'll have numpy 1.13.3 which is incompatible.\u001b[0m\n",
            "\u001b[31mERROR: umap-learn 0.5.0 has requirement numpy>=1.17, but you'll have numpy 1.13.3 which is incompatible.\u001b[0m\n",
            "\u001b[31mERROR: umap-learn 0.5.0 has requirement scikit-learn>=0.22, but you'll have scikit-learn 0.19.1 which is incompatible.\u001b[0m\n",
            "\u001b[31mERROR: tifffile 2020.9.3 has requirement numpy>=1.15.1, but you'll have numpy 1.13.3 which is incompatible.\u001b[0m\n",
            "\u001b[31mERROR: tensorflow 2.4.1 has requirement numpy~=1.19.2, but you'll have numpy 1.13.3 which is incompatible.\u001b[0m\n",
            "\u001b[31mERROR: tensorflow 2.4.1 has requirement protobuf>=3.9.2, but you'll have protobuf 3.5.0.post1 which is incompatible.\u001b[0m\n",
            "\u001b[31mERROR: tensorflow 2.4.1 has requirement six~=1.15.0, but you'll have six 1.11.0 which is incompatible.\u001b[0m\n",
            "\u001b[31mERROR: tensorflow-metadata 0.27.0 has requirement protobuf<4,>=3.7, but you'll have protobuf 3.5.0.post1 which is incompatible.\u001b[0m\n",
            "\u001b[31mERROR: tensorflow-hub 0.11.0 has requirement protobuf>=3.8.0, but you'll have protobuf 3.5.0.post1 which is incompatible.\u001b[0m\n",
            "\u001b[31mERROR: tensorflow-datasets 4.0.1 has requirement protobuf>=3.6.1, but you'll have protobuf 3.5.0.post1 which is incompatible.\u001b[0m\n",
            "\u001b[31mERROR: tensorboard 2.4.1 has requirement protobuf>=3.6.0, but you'll have protobuf 3.5.0.post1 which is incompatible.\u001b[0m\n",
            "\u001b[31mERROR: spacy 2.2.4 has requirement numpy>=1.15.0, but you'll have numpy 1.13.3 which is incompatible.\u001b[0m\n",
            "\u001b[31mERROR: seaborn 0.11.1 has requirement numpy>=1.15, but you'll have numpy 1.13.3 which is incompatible.\u001b[0m\n",
            "\u001b[31mERROR: pyarrow 0.14.1 has requirement numpy>=1.14, but you'll have numpy 1.13.3 which is incompatible.\u001b[0m\n",
            "\u001b[31mERROR: poetry 1.1.4 has requirement html5lib<2.0,>=1.0, but you'll have html5lib 0.9999999 which is incompatible.\u001b[0m\n",
            "\u001b[31mERROR: plotnine 0.6.0 has requirement numpy>=1.16.0, but you'll have numpy 1.13.3 which is incompatible.\u001b[0m\n",
            "\u001b[31mERROR: plotnine 0.6.0 has requirement scipy>=1.2.0, but you'll have scipy 1.0.0 which is incompatible.\u001b[0m\n",
            "\u001b[31mERROR: pandas 1.1.5 has requirement numpy>=1.15.4, but you'll have numpy 1.13.3 which is incompatible.\u001b[0m\n",
            "\u001b[31mERROR: numba 0.51.2 has requirement numpy>=1.15, but you'll have numpy 1.13.3 which is incompatible.\u001b[0m\n",
            "\u001b[31mERROR: nbclient 0.5.2 has requirement jupyter-client>=6.1.5, but you'll have jupyter-client 5.3.5 which is incompatible.\u001b[0m\n",
            "\u001b[31mERROR: librosa 0.8.0 has requirement numpy>=1.15.0, but you'll have numpy 1.13.3 which is incompatible.\u001b[0m\n",
            "\u001b[31mERROR: imgaug 0.2.9 has requirement numpy>=1.15.0, but you'll have numpy 1.13.3 which is incompatible.\u001b[0m\n",
            "\u001b[31mERROR: imbalanced-learn 0.4.3 has requirement scikit-learn>=0.20, but you'll have scikit-learn 0.19.1 which is incompatible.\u001b[0m\n",
            "\u001b[31mERROR: googleapis-common-protos 1.52.0 has requirement protobuf>=3.6.0, but you'll have protobuf 3.5.0.post1 which is incompatible.\u001b[0m\n",
            "\u001b[31mERROR: google-colab 1.0.0 has requirement six~=1.15.0, but you'll have six 1.11.0 which is incompatible.\u001b[0m\n",
            "\u001b[31mERROR: google-cloud-bigquery 1.21.0 has requirement protobuf>=3.6.0, but you'll have protobuf 3.5.0.post1 which is incompatible.\u001b[0m\n",
            "\u001b[31mERROR: flask 1.1.2 has requirement Werkzeug>=0.15, but you'll have werkzeug 0.13 which is incompatible.\u001b[0m\n",
            "\u001b[31mERROR: fbprophet 0.7.1 has requirement numpy>=1.15.4, but you'll have numpy 1.13.3 which is incompatible.\u001b[0m\n",
            "\u001b[31mERROR: fastai 1.0.61 has requirement numpy>=1.15, but you'll have numpy 1.13.3 which is incompatible.\u001b[0m\n",
            "\u001b[31mERROR: dm-tree 0.1.5 has requirement six>=1.12.0, but you'll have six 1.11.0 which is incompatible.\u001b[0m\n",
            "\u001b[31mERROR: datascience 0.10.6 has requirement folium==0.2.1, but you'll have folium 0.8.3 which is incompatible.\u001b[0m\n",
            "\u001b[31mERROR: cvxpy 1.0.31 has requirement numpy>=1.15, but you'll have numpy 1.13.3 which is incompatible.\u001b[0m\n",
            "\u001b[31mERROR: cvxpy 1.0.31 has requirement scipy>=1.1.0, but you'll have scipy 1.0.0 which is incompatible.\u001b[0m\n",
            "\u001b[31mERROR: blis 0.4.1 has requirement numpy>=1.15.0, but you'll have numpy 1.13.3 which is incompatible.\u001b[0m\n",
            "\u001b[31mERROR: astropy 4.1 has requirement numpy>=1.16, but you'll have numpy 1.13.3 which is incompatible.\u001b[0m\n",
            "\u001b[31mERROR: albumentations 0.1.12 has requirement imgaug<0.2.7,>=0.2.5, but you'll have imgaug 0.2.9 which is incompatible.\u001b[0m\n",
            "Installing collected packages: backports.weakref, six, html5lib, bleach, enum34, funcsigs, Markdown, pbr, mock, numpy, protobuf, scikit-learn, scipy, Werkzeug, tensorflow-tensorboard, tensorflow-gpu\n",
            "  Found existing installation: six 1.15.0\n",
            "    Uninstalling six-1.15.0:\n",
            "      Successfully uninstalled six-1.15.0\n",
            "  Found existing installation: html5lib 1.0.1\n",
            "    Uninstalling html5lib-1.0.1:\n",
            "      Successfully uninstalled html5lib-1.0.1\n",
            "  Found existing installation: bleach 3.3.0\n",
            "    Uninstalling bleach-3.3.0:\n",
            "      Successfully uninstalled bleach-3.3.0\n",
            "  Found existing installation: Markdown 3.3.3\n",
            "    Uninstalling Markdown-3.3.3:\n",
            "      Successfully uninstalled Markdown-3.3.3\n",
            "  Found existing installation: numpy 1.19.5\n",
            "    Uninstalling numpy-1.19.5:\n",
            "      Successfully uninstalled numpy-1.19.5\n",
            "  Found existing installation: protobuf 3.12.4\n",
            "    Uninstalling protobuf-3.12.4:\n",
            "      Successfully uninstalled protobuf-3.12.4\n",
            "  Found existing installation: scikit-learn 0.22.2.post1\n",
            "    Uninstalling scikit-learn-0.22.2.post1:\n",
            "      Successfully uninstalled scikit-learn-0.22.2.post1\n",
            "  Found existing installation: scipy 1.4.1\n",
            "    Uninstalling scipy-1.4.1:\n",
            "      Successfully uninstalled scipy-1.4.1\n",
            "  Found existing installation: Werkzeug 1.0.1\n",
            "    Uninstalling Werkzeug-1.0.1:\n",
            "      Successfully uninstalled Werkzeug-1.0.1\n",
            "Successfully installed Markdown-2.6.10 Werkzeug-0.13 backports.weakref-1.0.post1 bleach-1.5.0 enum34-1.1.6 funcsigs-1.0.2 html5lib-0.9999999 mock-2.0.0 numpy-1.13.3 pbr-3.1.1 protobuf-3.5.0.post1 scikit-learn-0.19.1 scipy-1.0.0 six-1.11.0 tensorflow-gpu-1.4.1 tensorflow-tensorboard-0.4.0rc3\n"
          ],
          "name": "stdout"
        },
        {
          "output_type": "display_data",
          "data": {
            "application/vnd.colab-display-data+json": {
              "pip_warning": {
                "packages": [
                  "enum",
                  "google",
                  "numpy",
                  "six"
                ]
              }
            }
          },
          "metadata": {
            "tags": []
          }
        }
      ]
    },
    {
      "cell_type": "code",
      "metadata": {
        "colab": {
          "base_uri": "https://localhost:8080/"
        },
        "id": "V7ouPLwN4yBV",
        "outputId": "4b5b2e24-fd8e-4e57-b63d-ad1ecf216427"
      },
      "source": [
        "!pwd"
      ],
      "execution_count": 1,
      "outputs": [
        {
          "output_type": "stream",
          "text": [
            "/content\n"
          ],
          "name": "stdout"
        }
      ]
    },
    {
      "cell_type": "code",
      "metadata": {
        "colab": {
          "base_uri": "https://localhost:8080/"
        },
        "id": "2y9g_UWG5eh3",
        "outputId": "9559d382-58c9-4d44-fae4-e721210e3a72"
      },
      "source": [
        "!git clone https://github.com/xiaojunxu/dnn-binary-code-similarity.git"
      ],
      "execution_count": 2,
      "outputs": [
        {
          "output_type": "stream",
          "text": [
            "Cloning into 'dnn-binary-code-similarity'...\n",
            "remote: Enumerating objects: 107, done.\u001b[K\n",
            "remote: Total 107 (delta 0), reused 0 (delta 0), pack-reused 107\u001b[K\n",
            "Receiving objects: 100% (107/107), 16.92 MiB | 35.79 MiB/s, done.\n",
            "Resolving deltas: 100% (58/58), done.\n"
          ],
          "name": "stdout"
        }
      ]
    },
    {
      "cell_type": "code",
      "metadata": {
        "colab": {
          "base_uri": "https://localhost:8080/"
        },
        "id": "tUW-5jWv5ngU",
        "outputId": "7cdd44b9-3fa1-4adc-c636-5c117c088d81"
      },
      "source": [
        "cd dnn-binary-code-similarity/"
      ],
      "execution_count": 3,
      "outputs": [
        {
          "output_type": "stream",
          "text": [
            "/content/dnn-binary-code-similarity\n"
          ],
          "name": "stdout"
        }
      ]
    },
    {
      "cell_type": "code",
      "metadata": {
        "colab": {
          "base_uri": "https://localhost:8080/"
        },
        "id": "AYf1AwB25p60",
        "outputId": "5680b114-87e3-4f81-a680-1b8cd38b9169"
      },
      "source": [
        "!pip install -r requirements.txt"
      ],
      "execution_count": 4,
      "outputs": [
        {
          "output_type": "stream",
          "text": [
            "Collecting backports.weakref==1.0.post1\n",
            "  Downloading https://files.pythonhosted.org/packages/88/ec/f598b633c3d5ffe267aaada57d961c94fdfa183c5c3ebda2b6d151943db6/backports.weakref-1.0.post1-py2.py3-none-any.whl\n",
            "Collecting bleach==1.5.0\n",
            "  Downloading https://files.pythonhosted.org/packages/33/70/86c5fec937ea4964184d4d6c4f0b9551564f821e1c3575907639036d9b90/bleach-1.5.0-py2.py3-none-any.whl\n",
            "Collecting enum34==1.1.6\n",
            "  Downloading https://files.pythonhosted.org/packages/af/42/cb9355df32c69b553e72a2e28daee25d1611d2c0d9c272aa1d34204205b2/enum34-1.1.6-py3-none-any.whl\n",
            "Collecting funcsigs==1.0.2\n",
            "  Downloading https://files.pythonhosted.org/packages/69/cb/f5be453359271714c01b9bd06126eaf2e368f1fddfff30818754b5ac2328/funcsigs-1.0.2-py2.py3-none-any.whl\n",
            "\u001b[31mERROR: Could not find a version that satisfies the requirement futures==3.2.0 (from -r requirements.txt (line 5)) (from versions: 0.2.python3, 0.1, 0.2, 1.0, 2.0, 2.1, 2.1.1, 2.1.2, 2.1.3, 2.1.4, 2.1.5, 2.1.6, 2.2.0, 3.0.0, 3.0.1, 3.0.2, 3.0.3, 3.0.4, 3.0.5, 3.1.0, 3.1.1)\u001b[0m\n",
            "\u001b[31mERROR: No matching distribution found for futures==3.2.0 (from -r requirements.txt (line 5))\u001b[0m\n"
          ],
          "name": "stdout"
        }
      ]
    },
    {
      "cell_type": "code",
      "metadata": {
        "colab": {
          "base_uri": "https://localhost:8080/",
          "height": 1000
        },
        "id": "CM2_7hoE5uZM",
        "outputId": "7e75bd56-f1a7-4303-88dc-51b9a74b1209"
      },
      "source": [
        "!pip install -r requirements.txt"
      ],
      "execution_count": 5,
      "outputs": [
        {
          "output_type": "stream",
          "text": [
            "Collecting backports.weakref==1.0.post1\n",
            "  Using cached https://files.pythonhosted.org/packages/88/ec/f598b633c3d5ffe267aaada57d961c94fdfa183c5c3ebda2b6d151943db6/backports.weakref-1.0.post1-py2.py3-none-any.whl\n",
            "Collecting bleach==1.5.0\n",
            "  Using cached https://files.pythonhosted.org/packages/33/70/86c5fec937ea4964184d4d6c4f0b9551564f821e1c3575907639036d9b90/bleach-1.5.0-py2.py3-none-any.whl\n",
            "Collecting enum34==1.1.6\n",
            "  Using cached https://files.pythonhosted.org/packages/af/42/cb9355df32c69b553e72a2e28daee25d1611d2c0d9c272aa1d34204205b2/enum34-1.1.6-py3-none-any.whl\n",
            "Collecting funcsigs==1.0.2\n",
            "  Using cached https://files.pythonhosted.org/packages/69/cb/f5be453359271714c01b9bd06126eaf2e368f1fddfff30818754b5ac2328/funcsigs-1.0.2-py2.py3-none-any.whl\n",
            "Collecting html5lib==0.9999999\n",
            "\u001b[?25l  Downloading https://files.pythonhosted.org/packages/ae/ae/bcb60402c60932b32dfaf19bb53870b29eda2cd17551ba5639219fb5ebf9/html5lib-0.9999999.tar.gz (889kB)\n",
            "\u001b[K     |████████████████████████████████| 890kB 16.5MB/s \n",
            "\u001b[?25hCollecting Markdown==2.6.10\n",
            "\u001b[?25l  Downloading https://files.pythonhosted.org/packages/f0/68/d7d5503adbd302fb8e44c8ece2b8afff467a888efb8a0a116c432cc4f4fe/Markdown-2.6.10.zip (414kB)\n",
            "\u001b[K     |████████████████████████████████| 419kB 50.9MB/s \n",
            "\u001b[?25hCollecting mock==2.0.0\n",
            "\u001b[?25l  Downloading https://files.pythonhosted.org/packages/e6/35/f187bdf23be87092bd0f1200d43d23076cee4d0dec109f195173fd3ebc79/mock-2.0.0-py2.py3-none-any.whl (56kB)\n",
            "\u001b[K     |████████████████████████████████| 61kB 11.0MB/s \n",
            "\u001b[?25hCollecting numpy==1.13.3\n",
            "\u001b[?25l  Downloading https://files.pythonhosted.org/packages/57/a7/e3e6bd9d595125e1abbe162e323fd2d06f6f6683185294b79cd2cdb190d5/numpy-1.13.3-cp36-cp36m-manylinux1_x86_64.whl (17.0MB)\n",
            "\u001b[K     |████████████████████████████████| 17.0MB 217kB/s \n",
            "\u001b[?25hCollecting pbr==3.1.1\n",
            "\u001b[?25l  Downloading https://files.pythonhosted.org/packages/0c/5d/b077dbf309993d52c1d71e6bf6fe443a8029ea215135ebbe0b1b10e7aefc/pbr-3.1.1-py2.py3-none-any.whl (99kB)\n",
            "\u001b[K     |████████████████████████████████| 102kB 13.5MB/s \n",
            "\u001b[?25hCollecting protobuf==3.5.0.post1\n",
            "\u001b[?25l  Downloading https://files.pythonhosted.org/packages/98/74/0df1aeb6fdda6a62ebd2f73bdb622683f5a31701ea0935db7699e0d42b09/protobuf-3.5.0.post1-cp36-cp36m-manylinux1_x86_64.whl (6.4MB)\n",
            "\u001b[K     |████████████████████████████████| 6.4MB 27.2MB/s \n",
            "\u001b[?25hCollecting scikit-learn==0.19.1\n",
            "\u001b[?25l  Downloading https://files.pythonhosted.org/packages/3d/2d/9fbc7baa5f44bc9e88ffb7ed32721b879bfa416573e85031e16f52569bc9/scikit_learn-0.19.1-cp36-cp36m-manylinux1_x86_64.whl (12.4MB)\n",
            "\u001b[K     |████████████████████████████████| 12.4MB 127kB/s \n",
            "\u001b[?25hCollecting scipy==1.0.0\n",
            "\u001b[?25l  Downloading https://files.pythonhosted.org/packages/d8/5e/caa01ba7be11600b6a9d39265440d7b3be3d69206da887c42bef049521f2/scipy-1.0.0-cp36-cp36m-manylinux1_x86_64.whl (50.0MB)\n",
            "\u001b[K     |████████████████████████████████| 50.0MB 60kB/s \n",
            "\u001b[?25hCollecting six==1.11.0\n",
            "  Downloading https://files.pythonhosted.org/packages/67/4b/141a581104b1f6397bfa78ac9d43d8ad29a7ca43ea90a2d863fe3056e86a/six-1.11.0-py2.py3-none-any.whl\n",
            "Requirement already satisfied: sklearn==0.0 in /usr/local/lib/python3.6/dist-packages (from -r requirements.txt (line 14)) (0.0)\n",
            "Collecting tensorflow-gpu==1.4.1\n",
            "\u001b[?25l  Downloading https://files.pythonhosted.org/packages/e3/d3/4a356db5b6a2c9dcb30011280bc065cf51de1e4ab5a5fee44eb460a98449/tensorflow_gpu-1.4.1-cp36-cp36m-manylinux1_x86_64.whl (170.3MB)\n",
            "\u001b[K     |████████████████████████████████| 170.3MB 74kB/s \n",
            "\u001b[?25hCollecting tensorflow-tensorboard==0.4.0rc3\n",
            "\u001b[?25l  Downloading https://files.pythonhosted.org/packages/68/82/6b00646b7275c3da90107333df7fbecaae72a9bfd3139fedd11686084d90/tensorflow_tensorboard-0.4.0rc3-py3-none-any.whl (1.7MB)\n",
            "\u001b[K     |████████████████████████████████| 1.7MB 53.3MB/s \n",
            "\u001b[?25hCollecting Werkzeug==0.13\n",
            "\u001b[?25l  Downloading https://files.pythonhosted.org/packages/e7/dc/e41d4d6adf0cd3f02b0bdf02fcddee77a2ef02c0b1d5eaa517308333d673/Werkzeug-0.13-py2.py3-none-any.whl (311kB)\n",
            "\u001b[K     |████████████████████████████████| 317kB 60.7MB/s \n",
            "\u001b[?25hRequirement already satisfied: setuptools in /usr/local/lib/python3.6/dist-packages (from protobuf==3.5.0.post1->-r requirements.txt (line 10)) (53.0.0)\n",
            "Requirement already satisfied: wheel>=0.26 in /usr/local/lib/python3.6/dist-packages (from tensorflow-gpu==1.4.1->-r requirements.txt (line 15)) (0.36.2)\n",
            "Building wheels for collected packages: html5lib, Markdown\n",
            "  Building wheel for html5lib (setup.py) ... \u001b[?25l\u001b[?25hdone\n",
            "  Created wheel for html5lib: filename=html5lib-0.9999999-cp36-none-any.whl size=107222 sha256=5b68cf400368ce70d09da618728032b4956460d381f60dc93da9a6f50e006942\n",
            "  Stored in directory: /root/.cache/pip/wheels/50/ae/f9/d2b189788efcf61d1ee0e36045476735c838898eef1cad6e29\n",
            "  Building wheel for Markdown (setup.py) ... \u001b[?25l\u001b[?25hdone\n",
            "  Created wheel for Markdown: filename=Markdown-2.6.10-cp36-none-any.whl size=77091 sha256=8ca38b9dc51c654d6803ee60c4a11376deb3f92b7e7c3a1c1192738a544ef748\n",
            "  Stored in directory: /root/.cache/pip/wheels/13/b1/c7/60d36fe0c9cf15b9b95c2dc8e4ba33acc782d275a13e8e95f1\n",
            "Successfully built html5lib Markdown\n",
            "\u001b[31mERROR: yellowbrick 0.9.1 has requirement scikit-learn>=0.20, but you'll have scikit-learn 0.19.1 which is incompatible.\u001b[0m\n",
            "\u001b[31mERROR: xarray 0.15.1 has requirement numpy>=1.15, but you'll have numpy 1.13.3 which is incompatible.\u001b[0m\n",
            "\u001b[31mERROR: umap-learn 0.5.0 has requirement numpy>=1.17, but you'll have numpy 1.13.3 which is incompatible.\u001b[0m\n",
            "\u001b[31mERROR: umap-learn 0.5.0 has requirement scikit-learn>=0.22, but you'll have scikit-learn 0.19.1 which is incompatible.\u001b[0m\n",
            "\u001b[31mERROR: tifffile 2020.9.3 has requirement numpy>=1.15.1, but you'll have numpy 1.13.3 which is incompatible.\u001b[0m\n",
            "\u001b[31mERROR: tensorflow 2.4.1 has requirement numpy~=1.19.2, but you'll have numpy 1.13.3 which is incompatible.\u001b[0m\n",
            "\u001b[31mERROR: tensorflow 2.4.1 has requirement protobuf>=3.9.2, but you'll have protobuf 3.5.0.post1 which is incompatible.\u001b[0m\n",
            "\u001b[31mERROR: tensorflow 2.4.1 has requirement six~=1.15.0, but you'll have six 1.11.0 which is incompatible.\u001b[0m\n",
            "\u001b[31mERROR: tensorflow-metadata 0.27.0 has requirement protobuf<4,>=3.7, but you'll have protobuf 3.5.0.post1 which is incompatible.\u001b[0m\n",
            "\u001b[31mERROR: tensorflow-hub 0.11.0 has requirement protobuf>=3.8.0, but you'll have protobuf 3.5.0.post1 which is incompatible.\u001b[0m\n",
            "\u001b[31mERROR: tensorflow-datasets 4.0.1 has requirement protobuf>=3.6.1, but you'll have protobuf 3.5.0.post1 which is incompatible.\u001b[0m\n",
            "\u001b[31mERROR: tensorboard 2.4.1 has requirement protobuf>=3.6.0, but you'll have protobuf 3.5.0.post1 which is incompatible.\u001b[0m\n",
            "\u001b[31mERROR: spacy 2.2.4 has requirement numpy>=1.15.0, but you'll have numpy 1.13.3 which is incompatible.\u001b[0m\n",
            "\u001b[31mERROR: seaborn 0.11.1 has requirement numpy>=1.15, but you'll have numpy 1.13.3 which is incompatible.\u001b[0m\n",
            "\u001b[31mERROR: pyarrow 0.14.1 has requirement numpy>=1.14, but you'll have numpy 1.13.3 which is incompatible.\u001b[0m\n",
            "\u001b[31mERROR: plotnine 0.6.0 has requirement numpy>=1.16.0, but you'll have numpy 1.13.3 which is incompatible.\u001b[0m\n",
            "\u001b[31mERROR: plotnine 0.6.0 has requirement scipy>=1.2.0, but you'll have scipy 1.0.0 which is incompatible.\u001b[0m\n",
            "\u001b[31mERROR: pandas 1.1.5 has requirement numpy>=1.15.4, but you'll have numpy 1.13.3 which is incompatible.\u001b[0m\n",
            "\u001b[31mERROR: numba 0.51.2 has requirement numpy>=1.15, but you'll have numpy 1.13.3 which is incompatible.\u001b[0m\n",
            "\u001b[31mERROR: nbclient 0.5.2 has requirement jupyter-client>=6.1.5, but you'll have jupyter-client 5.3.5 which is incompatible.\u001b[0m\n",
            "\u001b[31mERROR: librosa 0.8.0 has requirement numpy>=1.15.0, but you'll have numpy 1.13.3 which is incompatible.\u001b[0m\n",
            "\u001b[31mERROR: imgaug 0.2.9 has requirement numpy>=1.15.0, but you'll have numpy 1.13.3 which is incompatible.\u001b[0m\n",
            "\u001b[31mERROR: imbalanced-learn 0.4.3 has requirement scikit-learn>=0.20, but you'll have scikit-learn 0.19.1 which is incompatible.\u001b[0m\n",
            "\u001b[31mERROR: googleapis-common-protos 1.52.0 has requirement protobuf>=3.6.0, but you'll have protobuf 3.5.0.post1 which is incompatible.\u001b[0m\n",
            "\u001b[31mERROR: google-colab 1.0.0 has requirement six~=1.15.0, but you'll have six 1.11.0 which is incompatible.\u001b[0m\n",
            "\u001b[31mERROR: google-cloud-bigquery 1.21.0 has requirement protobuf>=3.6.0, but you'll have protobuf 3.5.0.post1 which is incompatible.\u001b[0m\n",
            "\u001b[31mERROR: flask 1.1.2 has requirement Werkzeug>=0.15, but you'll have werkzeug 0.13 which is incompatible.\u001b[0m\n",
            "\u001b[31mERROR: fbprophet 0.7.1 has requirement numpy>=1.15.4, but you'll have numpy 1.13.3 which is incompatible.\u001b[0m\n",
            "\u001b[31mERROR: fastai 1.0.61 has requirement numpy>=1.15, but you'll have numpy 1.13.3 which is incompatible.\u001b[0m\n",
            "\u001b[31mERROR: dm-tree 0.1.5 has requirement six>=1.12.0, but you'll have six 1.11.0 which is incompatible.\u001b[0m\n",
            "\u001b[31mERROR: datascience 0.10.6 has requirement folium==0.2.1, but you'll have folium 0.8.3 which is incompatible.\u001b[0m\n",
            "\u001b[31mERROR: cvxpy 1.0.31 has requirement numpy>=1.15, but you'll have numpy 1.13.3 which is incompatible.\u001b[0m\n",
            "\u001b[31mERROR: cvxpy 1.0.31 has requirement scipy>=1.1.0, but you'll have scipy 1.0.0 which is incompatible.\u001b[0m\n",
            "\u001b[31mERROR: blis 0.4.1 has requirement numpy>=1.15.0, but you'll have numpy 1.13.3 which is incompatible.\u001b[0m\n",
            "\u001b[31mERROR: astropy 4.1 has requirement numpy>=1.16, but you'll have numpy 1.13.3 which is incompatible.\u001b[0m\n",
            "\u001b[31mERROR: albumentations 0.1.12 has requirement imgaug<0.2.7,>=0.2.5, but you'll have imgaug 0.2.9 which is incompatible.\u001b[0m\n",
            "Installing collected packages: backports.weakref, six, html5lib, bleach, enum34, funcsigs, Markdown, pbr, mock, numpy, protobuf, scikit-learn, scipy, Werkzeug, tensorflow-tensorboard, tensorflow-gpu\n",
            "  Found existing installation: six 1.15.0\n",
            "    Uninstalling six-1.15.0:\n",
            "      Successfully uninstalled six-1.15.0\n",
            "  Found existing installation: html5lib 1.0.1\n",
            "    Uninstalling html5lib-1.0.1:\n",
            "      Successfully uninstalled html5lib-1.0.1\n",
            "  Found existing installation: bleach 3.3.0\n",
            "    Uninstalling bleach-3.3.0:\n",
            "      Successfully uninstalled bleach-3.3.0\n",
            "  Found existing installation: Markdown 3.3.3\n",
            "    Uninstalling Markdown-3.3.3:\n",
            "      Successfully uninstalled Markdown-3.3.3\n",
            "  Found existing installation: numpy 1.19.5\n",
            "    Uninstalling numpy-1.19.5:\n",
            "      Successfully uninstalled numpy-1.19.5\n",
            "  Found existing installation: protobuf 3.12.4\n",
            "    Uninstalling protobuf-3.12.4:\n",
            "      Successfully uninstalled protobuf-3.12.4\n",
            "  Found existing installation: scikit-learn 0.22.2.post1\n",
            "    Uninstalling scikit-learn-0.22.2.post1:\n",
            "      Successfully uninstalled scikit-learn-0.22.2.post1\n",
            "  Found existing installation: scipy 1.4.1\n",
            "    Uninstalling scipy-1.4.1:\n",
            "      Successfully uninstalled scipy-1.4.1\n",
            "  Found existing installation: Werkzeug 1.0.1\n",
            "    Uninstalling Werkzeug-1.0.1:\n",
            "      Successfully uninstalled Werkzeug-1.0.1\n",
            "Successfully installed Markdown-2.6.10 Werkzeug-0.13 backports.weakref-1.0.post1 bleach-1.5.0 enum34-1.1.6 funcsigs-1.0.2 html5lib-0.9999999 mock-2.0.0 numpy-1.13.3 pbr-3.1.1 protobuf-3.5.0.post1 scikit-learn-0.19.1 scipy-1.0.0 six-1.11.0 tensorflow-gpu-1.4.1 tensorflow-tensorboard-0.4.0rc3\n"
          ],
          "name": "stdout"
        },
        {
          "output_type": "display_data",
          "data": {
            "application/vnd.colab-display-data+json": {
              "pip_warning": {
                "packages": [
                  "enum",
                  "google",
                  "numpy",
                  "six"
                ]
              }
            }
          },
          "metadata": {
            "tags": []
          }
        }
      ]
    },
    {
      "cell_type": "code",
      "metadata": {
        "colab": {
          "base_uri": "https://localhost:8080/"
        },
        "id": "xHFboyX2551M",
        "outputId": "c57f08ae-b9ae-428a-d274-10574c96598a"
      },
      "source": [
        "!git clone https://github.com/xiaojunxu/dnn-binary-code-similarity.git"
      ],
      "execution_count": 1,
      "outputs": [
        {
          "output_type": "stream",
          "text": [
            "Cloning into 'dnn-binary-code-similarity'...\n",
            "remote: Enumerating objects: 107, done.\u001b[K\n",
            "remote: Total 107 (delta 0), reused 0 (delta 0), pack-reused 107\u001b[K\n",
            "Receiving objects: 100% (107/107), 16.92 MiB | 36.01 MiB/s, done.\n",
            "Resolving deltas: 100% (58/58), done.\n"
          ],
          "name": "stdout"
        }
      ]
    },
    {
      "cell_type": "code",
      "metadata": {
        "colab": {
          "base_uri": "https://localhost:8080/"
        },
        "id": "0kNDaSYJ6n6W",
        "outputId": "9d6a7f52-ac0d-4edc-9cda-f32033a0c289"
      },
      "source": [
        "cd dnn-binary-code-similarity/"
      ],
      "execution_count": 2,
      "outputs": [
        {
          "output_type": "stream",
          "text": [
            "/content/dnn-binary-code-similarity\n"
          ],
          "name": "stdout"
        }
      ]
    },
    {
      "cell_type": "code",
      "metadata": {
        "colab": {
          "base_uri": "https://localhost:8080/",
          "height": 162
        },
        "id": "W4YYG8_D6q8E",
        "outputId": "14cc22a1-9b5c-4ffa-96b7-d28e852954bc"
      },
      "source": [
        "python --version"
      ],
      "execution_count": 3,
      "outputs": [
        {
          "output_type": "error",
          "ename": "NameError",
          "evalue": "ignored",
          "traceback": [
            "\u001b[0;31m---------------------------------------------------------------------------\u001b[0m",
            "\u001b[0;31mNameError\u001b[0m                                 Traceback (most recent call last)",
            "\u001b[0;32m<ipython-input-3-a4637bbefc43>\u001b[0m in \u001b[0;36m<module>\u001b[0;34m()\u001b[0m\n\u001b[0;32m----> 1\u001b[0;31m \u001b[0mpython\u001b[0m \u001b[0;34m-\u001b[0m\u001b[0;34m-\u001b[0m\u001b[0mversion\u001b[0m\u001b[0;34m\u001b[0m\u001b[0;34m\u001b[0m\u001b[0m\n\u001b[0m",
            "\u001b[0;31mNameError\u001b[0m: name 'python' is not defined"
          ]
        }
      ]
    },
    {
      "cell_type": "code",
      "metadata": {
        "colab": {
          "base_uri": "https://localhost:8080/"
        },
        "id": "ytyT8s2N6s-M",
        "outputId": "3c3b8428-4d0c-4e9e-ff3b-a8f7d0baea06"
      },
      "source": [
        "!python --vesion"
      ],
      "execution_count": 4,
      "outputs": [
        {
          "output_type": "stream",
          "text": [
            "Unknown option: --\n",
            "usage: python3 [option] ... [-c cmd | -m mod | file | -] [arg] ...\n",
            "Try `python -h' for more information.\n"
          ],
          "name": "stdout"
        }
      ]
    },
    {
      "cell_type": "code",
      "metadata": {
        "colab": {
          "base_uri": "https://localhost:8080/"
        },
        "id": "yNN8QgoT6xH8",
        "outputId": "72f3fe6c-1a81-435c-b6ad-6beff306efd9"
      },
      "source": [
        "!python --version"
      ],
      "execution_count": 5,
      "outputs": [
        {
          "output_type": "stream",
          "text": [
            "Python 3.6.9\n"
          ],
          "name": "stdout"
        }
      ]
    },
    {
      "cell_type": "code",
      "metadata": {
        "colab": {
          "base_uri": "https://localhost:8080/"
        },
        "id": "ujxswRsR6zr7",
        "outputId": "570df882-672a-4626-f992-f480013f182f"
      },
      "source": [
        "!python train.py"
      ],
      "execution_count": 6,
      "outputs": [
        {
          "output_type": "stream",
          "text": [
            "  File \"train.py\", line 2\n",
            "    print tf.__version__\n",
            "           ^\n",
            "SyntaxError: Missing parentheses in call to 'print'. Did you mean print(tf.__version__)?\n"
          ],
          "name": "stdout"
        }
      ]
    },
    {
      "cell_type": "code",
      "metadata": {
        "colab": {
          "base_uri": "https://localhost:8080/"
        },
        "id": "VLCRw890655D",
        "outputId": "a2071eba-9aae-4525-9824-5a2f05ddafc3"
      },
      "source": [
        "!python train.py"
      ],
      "execution_count": 7,
      "outputs": [
        {
          "output_type": "stream",
          "text": [
            "  File \"train.py\", line 2\n",
            "    print tf. __version__\n",
            "           ^\n",
            "SyntaxError: Missing parentheses in call to 'print'. Did you mean print(tf. __version__)?\n"
          ],
          "name": "stdout"
        }
      ]
    },
    {
      "cell_type": "code",
      "metadata": {
        "colab": {
          "base_uri": "https://localhost:8080/"
        },
        "id": "yGJQ-Tua7GAJ",
        "outputId": "2e06ca93-2899-47d9-a9f7-1b771900bdb2"
      },
      "source": [
        "!python train.py"
      ],
      "execution_count": 8,
      "outputs": [
        {
          "output_type": "stream",
          "text": [
            "  File \"train.py\", line 2\n",
            "    print tf .__version__\n",
            "           ^\n",
            "SyntaxError: Missing parentheses in call to 'print'. Did you mean print(tf .__version__)?\n"
          ],
          "name": "stdout"
        }
      ]
    },
    {
      "cell_type": "code",
      "metadata": {
        "colab": {
          "base_uri": "https://localhost:8080/"
        },
        "id": "THqnzTO37K-r",
        "outputId": "e48be114-c39a-42ad-9285-7401540ead56"
      },
      "source": [
        "!python train.py"
      ],
      "execution_count": 9,
      "outputs": [
        {
          "output_type": "stream",
          "text": [
            "  File \"train.py\", line 80\n",
            "    print \"{} graphs, {} functions\".format(len(Gs), len(classes))\n",
            "                                  ^\n",
            "SyntaxError: invalid syntax\n"
          ],
          "name": "stdout"
        }
      ]
    },
    {
      "cell_type": "code",
      "metadata": {
        "colab": {
          "base_uri": "https://localhost:8080/"
        },
        "id": "Bjjg5BBb7P0L",
        "outputId": "067457f8-6639-4bab-e97d-b5412c4275c0"
      },
      "source": [
        "!python train.py"
      ],
      "execution_count": 10,
      "outputs": [
        {
          "output_type": "stream",
          "text": [
            "  File \"train.py\", line 95\n",
            "    print \"Train: {} graphs, {} functions\".format(\n",
            "                                         ^\n",
            "SyntaxError: invalid syntax\n"
          ],
          "name": "stdout"
        }
      ]
    },
    {
      "cell_type": "code",
      "metadata": {
        "colab": {
          "base_uri": "https://localhost:8080/"
        },
        "id": "XVKdqwwp7tdF",
        "outputId": "6657aa84-6210-49c5-c430-88f75916cd02"
      },
      "source": [
        "!python train.py"
      ],
      "execution_count": 11,
      "outputs": [
        {
          "output_type": "stream",
          "text": [
            "2021-02-14 09:46:34.566619: I tensorflow/stream_executor/platform/default/dso_loader.cc:49] Successfully opened dynamic library libcudart.so.10.1\n",
            "2.4.1\n",
            "Traceback (most recent call last):\n",
            "  File \"train.py\", line 6, in <module>\n",
            "    from graphnnSiamese import graphnn\n",
            "  File \"/content/dnn-binary-code-similarity/graphnnSiamese.py\", line 97\n",
            "    print string\n",
            "               ^\n",
            "SyntaxError: Missing parentheses in call to 'print'. Did you mean print(string)?\n"
          ],
          "name": "stdout"
        }
      ]
    },
    {
      "cell_type": "code",
      "metadata": {
        "colab": {
          "base_uri": "https://localhost:8080/"
        },
        "id": "nptidQ8t70N7",
        "outputId": "2c25bded-a79e-4a13-ddc7-c1005618fa6b"
      },
      "source": [
        "!python train.py"
      ],
      "execution_count": 12,
      "outputs": [
        {
          "output_type": "stream",
          "text": [
            "2021-02-14 09:47:37.704197: I tensorflow/stream_executor/platform/default/dso_loader.cc:49] Successfully opened dynamic library libcudart.so.10.1\n",
            "2.4.1\n",
            "=================================\n",
            "Namespace(batch_size=5, device='0', dtype=tf.float32, embed_depth=2, embed_dim=64, epoch=100, fea_dim=7, iter_level=5, load_path=None, log_path=None, lr=0.0001, output_dim=64, save_path='./saved_model/graphnn-model')\n",
            "=================================\n",
            "Traceback (most recent call last):\n",
            "  File \"train.py\", line 76, in <module>\n",
            "    FUNC_NAME_DICT = get_f_dict(F_NAME)\n",
            "  File \"/content/dnn-binary-code-similarity/utils.py\", line 21, in get_f_dict\n",
            "    with open(f_name) as inf:\n",
            "FileNotFoundError: [Errno 2] No such file or directory: './data/acfgSSL_7/openssl-1.0.1f-armeb-linux-O0v54.json'\n"
          ],
          "name": "stdout"
        }
      ]
    },
    {
      "cell_type": "code",
      "metadata": {
        "colab": {
          "base_uri": "https://localhost:8080/"
        },
        "id": "ew2zF5Us9CZS",
        "outputId": "72c34e92-1d7b-4eca-9485-2531a7b60f76"
      },
      "source": [
        "!python train.py"
      ],
      "execution_count": 13,
      "outputs": [
        {
          "output_type": "stream",
          "text": [
            "2021-02-14 09:52:21.799603: I tensorflow/stream_executor/platform/default/dso_loader.cc:49] Successfully opened dynamic library libcudart.so.10.1\n",
            "2.4.1\n",
            "=================================\n",
            "Namespace(batch_size=5, device='0', dtype=tf.float32, embed_depth=2, embed_dim=64, epoch=100, fea_dim=7, iter_level=5, load_path=None, log_path=None, lr=0.0001, output_dim=64, save_path='./saved_model/graphnn-model')\n",
            "=================================\n",
            "Traceback (most recent call last):\n",
            "  File \"train.py\", line 76, in <module>\n",
            "    FUNC_NAME_DICT = get_f_dict(F_NAME)\n",
            "  File \"/content/dnn-binary-code-similarity/utils.py\", line 21, in get_f_dict\n",
            "    with open(f_name) as inf:\n",
            "FileNotFoundError: [Errno 2] No such file or directory: './data/acfgSSL_7/openssl-1.0.1f-armeb-linux-O0v54.json'\n"
          ],
          "name": "stdout"
        }
      ]
    },
    {
      "cell_type": "code",
      "metadata": {
        "colab": {
          "base_uri": "https://localhost:8080/"
        },
        "id": "o5dfbDgv8Dor",
        "outputId": "b6f88f5e-ef0b-458c-a76b-abe2b8beb832"
      },
      "source": [
        "!unzip data.zip"
      ],
      "execution_count": 14,
      "outputs": [
        {
          "output_type": "stream",
          "text": [
            "Archive:  data.zip\n",
            "   creating: data/\n",
            "  inflating: data/valid.json         \n",
            "  inflating: data/test.json          \n",
            "  inflating: data/class_perm.npy     \n",
            "   creating: data/acfgSSL_7/\n",
            "  inflating: data/acfgSSL_7/openssl-1.0.1u-mips-linux-O1v54.json  \n",
            "  inflating: data/acfgSSL_7/openssl-1.0.1f-i586-linux-O0v54.json  \n",
            "  inflating: data/acfgSSL_7/openssl-1.0.1u-armeb-linux-O0v54.json  \n",
            "  inflating: data/acfgSSL_7/openssl-1.0.1u-mips-linux-O2v54.json  \n",
            "  inflating: data/acfgSSL_7/openssl-1.0.1u-i586-linux-O2v54.json  \n",
            "  inflating: data/acfgSSL_7/openssl-1.0.1f-mips-linux-O1v54.json  \n",
            "  inflating: data/acfgSSL_7/openssl-1.0.1f-mips-linux-O0v54.json  \n",
            "  inflating: data/acfgSSL_7/openssl-1.0.1f-i586-linux-O1v54.json  \n",
            "  inflating: data/acfgSSL_7/openssl-1.0.1u-mips-linux-O0v54.json  \n",
            "  inflating: data/acfgSSL_7/openssl-1.0.1f-i586-linux-O3v54.json  \n",
            "  inflating: data/acfgSSL_7/openssl-1.0.1u-i586-linux-O0v54.json  \n",
            "  inflating: data/acfgSSL_7/openssl-1.0.1u-armeb-linux-O2v54.json  \n",
            "  inflating: data/acfgSSL_7/openssl-1.0.1f-armeb-linux-O3v54.json  \n",
            "  inflating: data/acfgSSL_7/openssl-1.0.1u-mips-linux-O3v54.json  \n",
            "  inflating: data/acfgSSL_7/openssl-1.0.1u-i586-linux-O1v54.json  \n",
            "  inflating: data/acfgSSL_7/openssl-1.0.1u-armeb-linux-O1v54.json  \n",
            "  inflating: data/acfgSSL_7/openssl-1.0.1f-mips-linux-O3v54.json  \n",
            "  inflating: data/acfgSSL_7/openssl-1.0.1f-i586-linux-O2v54.json  \n",
            "  inflating: data/acfgSSL_7/openssl-1.0.1f-armeb-linux-O0v54.json  \n",
            "  inflating: data/acfgSSL_7/openssl-1.0.1f-armeb-linux-O2v54.json  \n",
            "  inflating: data/acfgSSL_7/openssl-1.0.1f-armeb-linux-O1v54.json  \n",
            "  inflating: data/acfgSSL_7/openssl-1.0.1u-i586-linux-O3v54.json  \n",
            "  inflating: data/acfgSSL_7/openssl-1.0.1u-armeb-linux-O3v54.json  \n",
            "  inflating: data/acfgSSL_7/openssl-1.0.1f-mips-linux-O2v54.json  \n"
          ],
          "name": "stdout"
        }
      ]
    },
    {
      "cell_type": "code",
      "metadata": {
        "colab": {
          "base_uri": "https://localhost:8080/",
          "height": 128
        },
        "id": "hXVzZ4hX9iuz",
        "outputId": "eb1ef79f-5524-4d00-e690-5d8a2344c868"
      },
      "source": [
        "unzip data.zip"
      ],
      "execution_count": 15,
      "outputs": [
        {
          "output_type": "error",
          "ename": "SyntaxError",
          "evalue": "ignored",
          "traceback": [
            "\u001b[0;36m  File \u001b[0;32m\"<ipython-input-15-49c42aadc67a>\"\u001b[0;36m, line \u001b[0;32m1\u001b[0m\n\u001b[0;31m    unzip data.zip\u001b[0m\n\u001b[0m             ^\u001b[0m\n\u001b[0;31mSyntaxError\u001b[0m\u001b[0;31m:\u001b[0m invalid syntax\n"
          ]
        }
      ]
    },
    {
      "cell_type": "code",
      "metadata": {
        "colab": {
          "base_uri": "https://localhost:8080/"
        },
        "id": "9iPJwpvb9paS",
        "outputId": "4b405580-187a-4df8-f3cd-21ae6c8d3c97"
      },
      "source": [
        "!unzip data.zip"
      ],
      "execution_count": 16,
      "outputs": [
        {
          "output_type": "stream",
          "text": [
            "Archive:  data.zip\n",
            "replace data/valid.json? [y]es, [n]o, [A]ll, [N]one, [r]ename: n\n",
            "replace data/test.json? [y]es, [n]o, [A]ll, [N]one, [r]ename: n\n",
            "replace data/class_perm.npy? [y]es, [n]o, [A]ll, [N]one, [r]ename: N\n"
          ],
          "name": "stdout"
        }
      ]
    },
    {
      "cell_type": "code",
      "metadata": {
        "colab": {
          "base_uri": "https://localhost:8080/"
        },
        "id": "QZKsPlE49tK6",
        "outputId": "64de31c4-46a0-4654-eeca-48bf9cad23a7"
      },
      "source": [
        "!python train.py"
      ],
      "execution_count": 17,
      "outputs": [
        {
          "output_type": "stream",
          "text": [
            "2021-02-14 09:56:17.740510: I tensorflow/stream_executor/platform/default/dso_loader.cc:49] Successfully opened dynamic library libcudart.so.10.1\n",
            "2.4.1\n",
            "=================================\n",
            "Namespace(batch_size=5, device='0', dtype=tf.float32, embed_depth=2, embed_dim=64, epoch=100, fea_dim=7, iter_level=5, load_path=None, log_path=None, lr=0.0001, output_dim=64, save_path='./saved_model/graphnn-model')\n",
            "=================================\n",
            "Traceback (most recent call last):\n",
            "  File \"train.py\", line 122, in <module>\n",
            "    lr = LEARNING_RATE\n",
            "  File \"/content/dnn-binary-code-similarity/graphnnSiamese.py\", line 52, in __init__\n",
            "    tf.reset_default_graph()\n",
            "AttributeError: module 'tensorflow' has no attribute 'reset_default_graph'\n"
          ],
          "name": "stdout"
        }
      ]
    },
    {
      "cell_type": "code",
      "metadata": {
        "colab": {
          "base_uri": "https://localhost:8080/"
        },
        "id": "kDreL7hK-Cmb",
        "outputId": "6936e057-3427-497e-845b-95842477c699"
      },
      "source": [
        "!python train.py"
      ],
      "execution_count": 18,
      "outputs": [
        {
          "output_type": "stream",
          "text": [
            "2021-02-14 09:58:14.583709: I tensorflow/stream_executor/platform/default/dso_loader.cc:49] Successfully opened dynamic library libcudart.so.10.1\n",
            "2.4.1\n",
            "=================================\n",
            "Namespace(batch_size=5, device='0', dtype=tf.float32, embed_depth=2, embed_dim=64, epoch=100, fea_dim=7, iter_level=5, load_path=None, log_path=None, lr=0.0001, output_dim=64, save_path='./saved_model/graphnn-model')\n",
            "=================================\n",
            "2021-02-14 09:58:27.103499: I tensorflow/compiler/jit/xla_cpu_device.cc:41] Not creating XLA devices, tf_xla_enable_xla_devices not set\n",
            "2021-02-14 09:58:27.104609: I tensorflow/stream_executor/platform/default/dso_loader.cc:49] Successfully opened dynamic library libcuda.so.1\n",
            "2021-02-14 09:58:27.168855: I tensorflow/stream_executor/cuda/cuda_gpu_executor.cc:941] successful NUMA node read from SysFS had negative value (-1), but there must be at least one NUMA node, so returning NUMA node zero\n",
            "2021-02-14 09:58:27.169500: I tensorflow/core/common_runtime/gpu/gpu_device.cc:1720] Found device 0 with properties: \n",
            "pciBusID: 0000:00:04.0 name: Tesla T4 computeCapability: 7.5\n",
            "coreClock: 1.59GHz coreCount: 40 deviceMemorySize: 14.75GiB deviceMemoryBandwidth: 298.08GiB/s\n",
            "2021-02-14 09:58:27.169536: I tensorflow/stream_executor/platform/default/dso_loader.cc:49] Successfully opened dynamic library libcudart.so.10.1\n",
            "2021-02-14 09:58:27.363558: I tensorflow/stream_executor/platform/default/dso_loader.cc:49] Successfully opened dynamic library libcublas.so.10\n",
            "2021-02-14 09:58:27.363679: I tensorflow/stream_executor/platform/default/dso_loader.cc:49] Successfully opened dynamic library libcublasLt.so.10\n",
            "2021-02-14 09:58:27.511841: I tensorflow/stream_executor/platform/default/dso_loader.cc:49] Successfully opened dynamic library libcufft.so.10\n",
            "2021-02-14 09:58:27.525812: I tensorflow/stream_executor/platform/default/dso_loader.cc:49] Successfully opened dynamic library libcurand.so.10\n",
            "2021-02-14 09:58:27.815021: I tensorflow/stream_executor/platform/default/dso_loader.cc:49] Successfully opened dynamic library libcusolver.so.10\n",
            "2021-02-14 09:58:27.837535: I tensorflow/stream_executor/platform/default/dso_loader.cc:49] Successfully opened dynamic library libcusparse.so.10\n",
            "2021-02-14 09:58:28.358359: I tensorflow/stream_executor/platform/default/dso_loader.cc:49] Successfully opened dynamic library libcudnn.so.7\n",
            "2021-02-14 09:58:28.358604: I tensorflow/stream_executor/cuda/cuda_gpu_executor.cc:941] successful NUMA node read from SysFS had negative value (-1), but there must be at least one NUMA node, so returning NUMA node zero\n",
            "2021-02-14 09:58:28.359596: I tensorflow/stream_executor/cuda/cuda_gpu_executor.cc:941] successful NUMA node read from SysFS had negative value (-1), but there must be at least one NUMA node, so returning NUMA node zero\n",
            "2021-02-14 09:58:28.362980: I tensorflow/core/common_runtime/gpu/gpu_device.cc:1862] Adding visible gpu devices: 0\n",
            "2021-02-14 09:58:28.363807: I tensorflow/compiler/jit/xla_gpu_device.cc:99] Not creating XLA devices, tf_xla_enable_xla_devices not set\n",
            "2021-02-14 09:58:28.363932: I tensorflow/stream_executor/cuda/cuda_gpu_executor.cc:941] successful NUMA node read from SysFS had negative value (-1), but there must be at least one NUMA node, so returning NUMA node zero\n",
            "2021-02-14 09:58:28.364517: I tensorflow/core/common_runtime/gpu/gpu_device.cc:1720] Found device 0 with properties: \n",
            "pciBusID: 0000:00:04.0 name: Tesla T4 computeCapability: 7.5\n",
            "coreClock: 1.59GHz coreCount: 40 deviceMemorySize: 14.75GiB deviceMemoryBandwidth: 298.08GiB/s\n",
            "2021-02-14 09:58:28.364559: I tensorflow/stream_executor/platform/default/dso_loader.cc:49] Successfully opened dynamic library libcudart.so.10.1\n",
            "2021-02-14 09:58:28.364595: I tensorflow/stream_executor/platform/default/dso_loader.cc:49] Successfully opened dynamic library libcublas.so.10\n",
            "2021-02-14 09:58:28.364608: I tensorflow/stream_executor/platform/default/dso_loader.cc:49] Successfully opened dynamic library libcublasLt.so.10\n",
            "2021-02-14 09:58:28.364621: I tensorflow/stream_executor/platform/default/dso_loader.cc:49] Successfully opened dynamic library libcufft.so.10\n",
            "2021-02-14 09:58:28.364634: I tensorflow/stream_executor/platform/default/dso_loader.cc:49] Successfully opened dynamic library libcurand.so.10\n",
            "2021-02-14 09:58:28.364649: I tensorflow/stream_executor/platform/default/dso_loader.cc:49] Successfully opened dynamic library libcusolver.so.10\n",
            "2021-02-14 09:58:28.364662: I tensorflow/stream_executor/platform/default/dso_loader.cc:49] Successfully opened dynamic library libcusparse.so.10\n",
            "2021-02-14 09:58:28.364675: I tensorflow/stream_executor/platform/default/dso_loader.cc:49] Successfully opened dynamic library libcudnn.so.7\n",
            "2021-02-14 09:58:28.364732: I tensorflow/stream_executor/cuda/cuda_gpu_executor.cc:941] successful NUMA node read from SysFS had negative value (-1), but there must be at least one NUMA node, so returning NUMA node zero\n",
            "2021-02-14 09:58:28.365291: I tensorflow/stream_executor/cuda/cuda_gpu_executor.cc:941] successful NUMA node read from SysFS had negative value (-1), but there must be at least one NUMA node, so returning NUMA node zero\n",
            "2021-02-14 09:58:28.365854: I tensorflow/core/common_runtime/gpu/gpu_device.cc:1862] Adding visible gpu devices: 0\n",
            "2021-02-14 09:58:28.402686: I tensorflow/stream_executor/platform/default/dso_loader.cc:49] Successfully opened dynamic library libcudart.so.10.1\n",
            "2021-02-14 09:58:32.423972: I tensorflow/core/common_runtime/gpu/gpu_device.cc:1261] Device interconnect StreamExecutor with strength 1 edge matrix:\n",
            "2021-02-14 09:58:32.424017: I tensorflow/core/common_runtime/gpu/gpu_device.cc:1267]      0 \n",
            "2021-02-14 09:58:32.424030: I tensorflow/core/common_runtime/gpu/gpu_device.cc:1280] 0:   N \n",
            "2021-02-14 09:58:32.429262: I tensorflow/stream_executor/cuda/cuda_gpu_executor.cc:941] successful NUMA node read from SysFS had negative value (-1), but there must be at least one NUMA node, so returning NUMA node zero\n",
            "2021-02-14 09:58:32.429955: I tensorflow/stream_executor/cuda/cuda_gpu_executor.cc:941] successful NUMA node read from SysFS had negative value (-1), but there must be at least one NUMA node, so returning NUMA node zero\n",
            "2021-02-14 09:58:32.430549: I tensorflow/stream_executor/cuda/cuda_gpu_executor.cc:941] successful NUMA node read from SysFS had negative value (-1), but there must be at least one NUMA node, so returning NUMA node zero\n",
            "2021-02-14 09:58:32.431057: W tensorflow/core/common_runtime/gpu/gpu_bfc_allocator.cc:39] Overriding allow_growth setting because the TF_FORCE_GPU_ALLOW_GROWTH environment variable is set. Original config value was 0.\n",
            "2021-02-14 09:58:32.431106: I tensorflow/core/common_runtime/gpu/gpu_device.cc:1406] Created TensorFlow device (/job:localhost/replica:0/task:0/device:GPU:0 with 13994 MB memory) -> physical GPU (device: 0, name: Tesla T4, pci bus id: 0000:00:04.0, compute capability: 7.5)\n",
            "Traceback (most recent call last):\n",
            "  File \"train.py\", line 122, in <module>\n",
            "    lr = LEARNING_RATE\n",
            "  File \"/content/dnn-binary-code-similarity/graphnnSiamese.py\", line 54, in __init__\n",
            "    Wnode = tf.Variable(tf.truncated_normal(\n",
            "AttributeError: module 'tensorflow' has no attribute 'truncated_normal'\n"
          ],
          "name": "stdout"
        }
      ]
    },
    {
      "cell_type": "code",
      "metadata": {
        "colab": {
          "base_uri": "https://localhost:8080/"
        },
        "id": "YRRVgGZO-fIM",
        "outputId": "e8be8a7f-a87c-460f-d633-65050082018e"
      },
      "source": [
        "!python train.py"
      ],
      "execution_count": 19,
      "outputs": [
        {
          "output_type": "stream",
          "text": [
            "2021-02-14 09:59:48.927629: I tensorflow/stream_executor/platform/default/dso_loader.cc:49] Successfully opened dynamic library libcudart.so.10.1\n",
            "2.4.1\n",
            "Traceback (most recent call last):\n",
            "  File \"train.py\", line 6, in <module>\n",
            "    from graphnnSiamese import graphnn\n",
            "  File \"/content/dnn-binary-code-similarity/graphnnSiamese.py\", line 55\n",
            "    shape = [N_x, N_embed], stddev = 0.1, dtype = Dtype))\n",
            "                                                       ^\n",
            "SyntaxError: invalid syntax\n"
          ],
          "name": "stdout"
        }
      ]
    },
    {
      "cell_type": "code",
      "metadata": {
        "colab": {
          "base_uri": "https://localhost:8080/"
        },
        "id": "vZHNZwLG-2Jb",
        "outputId": "40946ed5-8065-49dc-eff8-906b13a06ea8"
      },
      "source": [
        "!pip install poetry"
      ],
      "execution_count": 20,
      "outputs": [
        {
          "output_type": "stream",
          "text": [
            "Collecting poetry\n",
            "\u001b[?25l  Downloading https://files.pythonhosted.org/packages/f9/dd/b6ba82de8c075d1a795670ae16952a4c1cb21398b4330d8cfb51241e32d7/poetry-1.1.4-py2.py3-none-any.whl (171kB)\n",
            "\r\u001b[K     |██                              | 10kB 21.0MB/s eta 0:00:01\r\u001b[K     |███▉                            | 20kB 27.5MB/s eta 0:00:01\r\u001b[K     |█████▊                          | 30kB 23.2MB/s eta 0:00:01\r\u001b[K     |███████▋                        | 40kB 20.0MB/s eta 0:00:01\r\u001b[K     |█████████▌                      | 51kB 18.2MB/s eta 0:00:01\r\u001b[K     |███████████▌                    | 61kB 14.9MB/s eta 0:00:01\r\u001b[K     |█████████████▍                  | 71kB 15.5MB/s eta 0:00:01\r\u001b[K     |███████████████▎                | 81kB 15.7MB/s eta 0:00:01\r\u001b[K     |█████████████████▏              | 92kB 14.9MB/s eta 0:00:01\r\u001b[K     |███████████████████             | 102kB 14.6MB/s eta 0:00:01\r\u001b[K     |█████████████████████           | 112kB 14.6MB/s eta 0:00:01\r\u001b[K     |███████████████████████         | 122kB 14.6MB/s eta 0:00:01\r\u001b[K     |████████████████████████▉       | 133kB 14.6MB/s eta 0:00:01\r\u001b[K     |██████████████████████████▊     | 143kB 14.6MB/s eta 0:00:01\r\u001b[K     |████████████████████████████▋   | 153kB 14.6MB/s eta 0:00:01\r\u001b[K     |██████████████████████████████▌ | 163kB 14.6MB/s eta 0:00:01\r\u001b[K     |████████████████████████████████| 174kB 14.6MB/s \n",
            "\u001b[?25hCollecting pkginfo<2.0,>=1.4\n",
            "  Downloading https://files.pythonhosted.org/packages/b0/9a/d78e7c299eb5659bc3a036e5a968a399c62bfe0b2aa18baf7d13f43373ba/pkginfo-1.7.0-py2.py3-none-any.whl\n",
            "Requirement already satisfied: html5lib<2.0,>=1.0 in /usr/local/lib/python3.6/dist-packages (from poetry) (1.0.1)\n",
            "Collecting shellingham<2.0,>=1.1\n",
            "  Downloading https://files.pythonhosted.org/packages/76/94/7a764d57d0f46534e0022e651da6547bc5cfe7b6372e7e0ed1dde6f5cb67/shellingham-1.4.0-py2.py3-none-any.whl\n",
            "Collecting virtualenv<21.0.0,>=20.0.26\n",
            "\u001b[?25l  Downloading https://files.pythonhosted.org/packages/9f/fb/7423637e48cffbb2e567ca113d2b05068f8b457dde998ab487adf7386c86/virtualenv-20.4.2-py2.py3-none-any.whl (7.2MB)\n",
            "\u001b[K     |████████████████████████████████| 7.2MB 39.2MB/s \n",
            "\u001b[?25hCollecting keyring<22.0.0,>=21.2.0; python_version >= \"3.6\" and python_version < \"4.0\"\n",
            "  Downloading https://files.pythonhosted.org/packages/d0/a0/20e656cd1e2313af619e382782bd47b5f77a3f33d81992554f3aac56e90d/keyring-21.8.0-py3-none-any.whl\n",
            "Collecting requests-toolbelt<0.10.0,>=0.9.1\n",
            "\u001b[?25l  Downloading https://files.pythonhosted.org/packages/60/ef/7681134338fc097acef8d9b2f8abe0458e4d87559c689a8c306d0957ece5/requests_toolbelt-0.9.1-py2.py3-none-any.whl (54kB)\n",
            "\u001b[K     |████████████████████████████████| 61kB 10.1MB/s \n",
            "\u001b[?25hCollecting cachy<0.4.0,>=0.3.0\n",
            "  Downloading https://files.pythonhosted.org/packages/82/e6/badd9af6feee43e76c3445b2621a60d3d99fe0e33fffa8df43590212ea63/cachy-0.3.0-py2.py3-none-any.whl\n",
            "Collecting cleo<0.9.0,>=0.8.1\n",
            "  Downloading https://files.pythonhosted.org/packages/09/46/3577da4237675e90630e8e9ccd2c7dbcd42afd4463712a207eab148dfbc2/cleo-0.8.1-py2.py3-none-any.whl\n",
            "Requirement already satisfied: requests<3.0,>=2.18 in /usr/local/lib/python3.6/dist-packages (from poetry) (2.23.0)\n",
            "Collecting clikit<0.7.0,>=0.6.2\n",
            "\u001b[?25l  Downloading https://files.pythonhosted.org/packages/f2/3d/4394c710b9195b83382dc67bdd1040e5ebfc3fc8df90e20fe74341298c57/clikit-0.6.2-py2.py3-none-any.whl (91kB)\n",
            "\u001b[K     |████████████████████████████████| 92kB 12.4MB/s \n",
            "\u001b[?25hRequirement already satisfied: packaging<21.0,>=20.4 in /usr/local/lib/python3.6/dist-packages (from poetry) (20.9)\n",
            "Collecting tomlkit<1.0.0,>=0.7.0\n",
            "  Downloading https://files.pythonhosted.org/packages/bc/01/a0ee34fe37dd54f795e8f8a820af57c9a94d7358276acf6cdc21ae8d9533/tomlkit-0.7.0-py2.py3-none-any.whl\n",
            "Collecting crashtest<0.4.0,>=0.3.0; python_version >= \"3.6\" and python_version < \"4.0\"\n",
            "  Downloading https://files.pythonhosted.org/packages/76/97/2a99f020be5e4a5a97ba10bc480e2e6a889b5087103a2c6b952b5f819d27/crashtest-0.3.1-py3-none-any.whl\n",
            "Requirement already satisfied: pexpect<5.0.0,>=4.7.0 in /usr/local/lib/python3.6/dist-packages (from poetry) (4.8.0)\n",
            "Collecting importlib-metadata<2.0.0,>=1.6.0; python_version < \"3.8\"\n",
            "  Downloading https://files.pythonhosted.org/packages/8e/58/cdea07eb51fc2b906db0968a94700866fc46249bdc75cac23f9d13168929/importlib_metadata-1.7.0-py2.py3-none-any.whl\n",
            "Requirement already satisfied: cachecontrol[filecache]<0.13.0,>=0.12.4 in /usr/local/lib/python3.6/dist-packages (from poetry) (0.12.6)\n",
            "Collecting poetry-core<2.0.0,>=1.0.0\n",
            "\u001b[?25l  Downloading https://files.pythonhosted.org/packages/a0/56/d7923fb39395c662bab9e6044e290458a77204ea3cafc3b1ea88e27b8f4c/poetry_core-1.0.2-py2.py3-none-any.whl (424kB)\n",
            "\u001b[K     |████████████████████████████████| 430kB 54.9MB/s \n",
            "\u001b[?25hRequirement already satisfied: six>=1.9 in /usr/local/lib/python3.6/dist-packages (from html5lib<2.0,>=1.0->poetry) (1.15.0)\n",
            "Requirement already satisfied: webencodings in /usr/local/lib/python3.6/dist-packages (from html5lib<2.0,>=1.0->poetry) (0.5.1)\n",
            "Collecting distlib<1,>=0.3.1\n",
            "\u001b[?25l  Downloading https://files.pythonhosted.org/packages/f5/0a/490fa011d699bb5a5f3a0cf57de82237f52a6db9d40f33c53b2736c9a1f9/distlib-0.3.1-py2.py3-none-any.whl (335kB)\n",
            "\u001b[K     |████████████████████████████████| 337kB 56.2MB/s \n",
            "\u001b[?25hRequirement already satisfied: filelock<4,>=3.0.0 in /usr/local/lib/python3.6/dist-packages (from virtualenv<21.0.0,>=20.0.26->poetry) (3.0.12)\n",
            "Requirement already satisfied: appdirs<2,>=1.4.3 in /usr/local/lib/python3.6/dist-packages (from virtualenv<21.0.0,>=20.0.26->poetry) (1.4.4)\n",
            "Requirement already satisfied: importlib-resources>=1.0; python_version < \"3.7\" in /usr/local/lib/python3.6/dist-packages (from virtualenv<21.0.0,>=20.0.26->poetry) (5.1.0)\n",
            "Collecting SecretStorage>=3.2; sys_platform == \"linux\"\n",
            "  Downloading https://files.pythonhosted.org/packages/d9/1e/29cd69fdac7391aa51510dfd42aa70b4e6a826c8cd019ee2a8ab9ec0777f/SecretStorage-3.3.1-py3-none-any.whl\n",
            "Collecting jeepney>=0.4.2; sys_platform == \"linux\"\n",
            "\u001b[?25l  Downloading https://files.pythonhosted.org/packages/51/b0/a6ea72741aaac3f37fb96d195e4ee576a103c4c04e279bc6b446a70960e1/jeepney-0.6.0-py3-none-any.whl (45kB)\n",
            "\u001b[K     |████████████████████████████████| 51kB 10.0MB/s \n",
            "\u001b[?25hRequirement already satisfied: idna<3,>=2.5 in /usr/local/lib/python3.6/dist-packages (from requests<3.0,>=2.18->poetry) (2.10)\n",
            "Requirement already satisfied: chardet<4,>=3.0.2 in /usr/local/lib/python3.6/dist-packages (from requests<3.0,>=2.18->poetry) (3.0.4)\n",
            "Requirement already satisfied: urllib3!=1.25.0,!=1.25.1,<1.26,>=1.21.1 in /usr/local/lib/python3.6/dist-packages (from requests<3.0,>=2.18->poetry) (1.24.3)\n",
            "Requirement already satisfied: certifi>=2017.4.17 in /usr/local/lib/python3.6/dist-packages (from requests<3.0,>=2.18->poetry) (2020.12.5)\n",
            "Collecting pylev<2.0,>=1.3\n",
            "  Downloading https://files.pythonhosted.org/packages/40/1c/7dff1d242bf1e19f9c6202f0ba4e6fd18cc7ecb8bc85b17b2d16c806e228/pylev-1.3.0-py2.py3-none-any.whl\n",
            "Collecting pastel<0.3.0,>=0.2.0\n",
            "  Downloading https://files.pythonhosted.org/packages/aa/18/a8444036c6dd65ba3624c63b734d3ba95ba63ace513078e1580590075d21/pastel-0.2.1-py2.py3-none-any.whl\n",
            "Requirement already satisfied: pyparsing>=2.0.2 in /usr/local/lib/python3.6/dist-packages (from packaging<21.0,>=20.4->poetry) (2.4.7)\n",
            "Requirement already satisfied: ptyprocess>=0.5 in /usr/local/lib/python3.6/dist-packages (from pexpect<5.0.0,>=4.7.0->poetry) (0.7.0)\n",
            "Requirement already satisfied: zipp>=0.5 in /usr/local/lib/python3.6/dist-packages (from importlib-metadata<2.0.0,>=1.6.0; python_version < \"3.8\"->poetry) (3.4.0)\n",
            "Requirement already satisfied: msgpack>=0.5.2 in /usr/local/lib/python3.6/dist-packages (from cachecontrol[filecache]<0.13.0,>=0.12.4->poetry) (1.0.2)\n",
            "Collecting lockfile>=0.9; extra == \"filecache\"\n",
            "  Downloading https://files.pythonhosted.org/packages/c8/22/9460e311f340cb62d26a38c419b1381b8593b0bb6b5d1f056938b086d362/lockfile-0.12.2-py2.py3-none-any.whl\n",
            "Collecting cryptography>=2.0\n",
            "\u001b[?25l  Downloading https://files.pythonhosted.org/packages/2f/61/6f4765822d1f3878c913755bd99212f1ab0b9fa808fc2197ace0790f4cdb/cryptography-3.4.5-cp36-abi3-manylinux2014_x86_64.whl (3.2MB)\n",
            "\u001b[K     |████████████████████████████████| 3.2MB 46.8MB/s \n",
            "\u001b[?25hRequirement already satisfied: cffi>=1.12 in /usr/local/lib/python3.6/dist-packages (from cryptography>=2.0->SecretStorage>=3.2; sys_platform == \"linux\"->keyring<22.0.0,>=21.2.0; python_version >= \"3.6\" and python_version < \"4.0\"->poetry) (1.14.4)\n",
            "Requirement already satisfied: pycparser in /usr/local/lib/python3.6/dist-packages (from cffi>=1.12->cryptography>=2.0->SecretStorage>=3.2; sys_platform == \"linux\"->keyring<22.0.0,>=21.2.0; python_version >= \"3.6\" and python_version < \"4.0\"->poetry) (2.20)\n",
            "Installing collected packages: pkginfo, shellingham, distlib, importlib-metadata, virtualenv, jeepney, cryptography, SecretStorage, keyring, requests-toolbelt, cachy, pylev, pastel, crashtest, clikit, cleo, tomlkit, poetry-core, poetry, lockfile\n",
            "  Found existing installation: importlib-metadata 3.4.0\n",
            "    Uninstalling importlib-metadata-3.4.0:\n",
            "      Successfully uninstalled importlib-metadata-3.4.0\n",
            "Successfully installed SecretStorage-3.3.1 cachy-0.3.0 cleo-0.8.1 clikit-0.6.2 crashtest-0.3.1 cryptography-3.4.5 distlib-0.3.1 importlib-metadata-1.7.0 jeepney-0.6.0 keyring-21.8.0 lockfile-0.12.2 pastel-0.2.1 pkginfo-1.7.0 poetry-1.1.4 poetry-core-1.0.2 pylev-1.3.0 requests-toolbelt-0.9.1 shellingham-1.4.0 tomlkit-0.7.0 virtualenv-20.4.2\n"
          ],
          "name": "stdout"
        }
      ]
    },
    {
      "cell_type": "code",
      "metadata": {
        "colab": {
          "base_uri": "https://localhost:8080/"
        },
        "id": "BYSRJkcJ_ksj",
        "outputId": "29ac091e-8133-4092-d71f-b733014db6ea"
      },
      "source": [
        "!poetry --version"
      ],
      "execution_count": 21,
      "outputs": [
        {
          "output_type": "stream",
          "text": [
            "Poetry version \u001b[36m1.1.4\u001b[0m\n"
          ],
          "name": "stdout"
        }
      ]
    },
    {
      "cell_type": "code",
      "metadata": {
        "colab": {
          "base_uri": "https://localhost:8080/"
        },
        "id": "ZcbvPSnY_ssh",
        "outputId": "2563eab8-2596-462b-dfee-06fcbb14ee88"
      },
      "source": [
        "!poetry python train.py"
      ],
      "execution_count": 22,
      "outputs": [
        {
          "output_type": "stream",
          "text": [
            "\u001b[31;1mThe command \"python\" is not defined.\u001b[0m\n"
          ],
          "name": "stdout"
        }
      ]
    },
    {
      "cell_type": "code",
      "metadata": {
        "colab": {
          "base_uri": "https://localhost:8080/"
        },
        "id": "rE91kRQH_xPY",
        "outputId": "0df60b8b-9c22-4cd5-fcd5-167811d80591"
      },
      "source": [
        "!poetry train.py"
      ],
      "execution_count": 23,
      "outputs": [
        {
          "output_type": "stream",
          "text": [
            "\u001b[31;1mThe command \"train.py\" is not defined.\u001b[0m\n"
          ],
          "name": "stdout"
        }
      ]
    },
    {
      "cell_type": "code",
      "metadata": {
        "colab": {
          "base_uri": "https://localhost:8080/"
        },
        "id": "HUCwRRds_1Sb",
        "outputId": "ef270dca-e18b-40a2-b097-eeafbeafb520"
      },
      "source": [
        "!python train.py"
      ],
      "execution_count": 24,
      "outputs": [
        {
          "output_type": "stream",
          "text": [
            "2021-02-14 10:04:16.153127: I tensorflow/stream_executor/platform/default/dso_loader.cc:49] Successfully opened dynamic library libcudart.so.10.1\n",
            "2.4.1\n",
            "=================================\n",
            "Namespace(batch_size=5, device='0', dtype=tf.float32, embed_depth=2, embed_dim=64, epoch=100, fea_dim=7, iter_level=5, load_path=None, log_path=None, lr=0.0001, output_dim=64, save_path='./saved_model/graphnn-model')\n",
            "=================================\n",
            "2021-02-14 10:04:28.655323: I tensorflow/compiler/jit/xla_cpu_device.cc:41] Not creating XLA devices, tf_xla_enable_xla_devices not set\n",
            "2021-02-14 10:04:28.656244: I tensorflow/stream_executor/platform/default/dso_loader.cc:49] Successfully opened dynamic library libcuda.so.1\n",
            "2021-02-14 10:04:28.686358: I tensorflow/stream_executor/cuda/cuda_gpu_executor.cc:941] successful NUMA node read from SysFS had negative value (-1), but there must be at least one NUMA node, so returning NUMA node zero\n",
            "2021-02-14 10:04:28.686977: I tensorflow/core/common_runtime/gpu/gpu_device.cc:1720] Found device 0 with properties: \n",
            "pciBusID: 0000:00:04.0 name: Tesla T4 computeCapability: 7.5\n",
            "coreClock: 1.59GHz coreCount: 40 deviceMemorySize: 14.75GiB deviceMemoryBandwidth: 298.08GiB/s\n",
            "2021-02-14 10:04:28.687019: I tensorflow/stream_executor/platform/default/dso_loader.cc:49] Successfully opened dynamic library libcudart.so.10.1\n",
            "2021-02-14 10:04:28.688811: I tensorflow/stream_executor/platform/default/dso_loader.cc:49] Successfully opened dynamic library libcublas.so.10\n",
            "2021-02-14 10:04:28.688902: I tensorflow/stream_executor/platform/default/dso_loader.cc:49] Successfully opened dynamic library libcublasLt.so.10\n",
            "2021-02-14 10:04:28.690548: I tensorflow/stream_executor/platform/default/dso_loader.cc:49] Successfully opened dynamic library libcufft.so.10\n",
            "2021-02-14 10:04:28.690894: I tensorflow/stream_executor/platform/default/dso_loader.cc:49] Successfully opened dynamic library libcurand.so.10\n",
            "2021-02-14 10:04:28.692750: I tensorflow/stream_executor/platform/default/dso_loader.cc:49] Successfully opened dynamic library libcusolver.so.10\n",
            "2021-02-14 10:04:28.693842: I tensorflow/stream_executor/platform/default/dso_loader.cc:49] Successfully opened dynamic library libcusparse.so.10\n",
            "2021-02-14 10:04:28.697510: I tensorflow/stream_executor/platform/default/dso_loader.cc:49] Successfully opened dynamic library libcudnn.so.7\n",
            "2021-02-14 10:04:28.697639: I tensorflow/stream_executor/cuda/cuda_gpu_executor.cc:941] successful NUMA node read from SysFS had negative value (-1), but there must be at least one NUMA node, so returning NUMA node zero\n",
            "2021-02-14 10:04:28.698236: I tensorflow/stream_executor/cuda/cuda_gpu_executor.cc:941] successful NUMA node read from SysFS had negative value (-1), but there must be at least one NUMA node, so returning NUMA node zero\n",
            "2021-02-14 10:04:28.698789: I tensorflow/core/common_runtime/gpu/gpu_device.cc:1862] Adding visible gpu devices: 0\n",
            "2021-02-14 10:04:28.699312: I tensorflow/compiler/jit/xla_gpu_device.cc:99] Not creating XLA devices, tf_xla_enable_xla_devices not set\n",
            "2021-02-14 10:04:28.699461: I tensorflow/stream_executor/cuda/cuda_gpu_executor.cc:941] successful NUMA node read from SysFS had negative value (-1), but there must be at least one NUMA node, so returning NUMA node zero\n",
            "2021-02-14 10:04:28.700017: I tensorflow/core/common_runtime/gpu/gpu_device.cc:1720] Found device 0 with properties: \n",
            "pciBusID: 0000:00:04.0 name: Tesla T4 computeCapability: 7.5\n",
            "coreClock: 1.59GHz coreCount: 40 deviceMemorySize: 14.75GiB deviceMemoryBandwidth: 298.08GiB/s\n",
            "2021-02-14 10:04:28.700050: I tensorflow/stream_executor/platform/default/dso_loader.cc:49] Successfully opened dynamic library libcudart.so.10.1\n",
            "2021-02-14 10:04:28.700089: I tensorflow/stream_executor/platform/default/dso_loader.cc:49] Successfully opened dynamic library libcublas.so.10\n",
            "2021-02-14 10:04:28.700118: I tensorflow/stream_executor/platform/default/dso_loader.cc:49] Successfully opened dynamic library libcublasLt.so.10\n",
            "2021-02-14 10:04:28.700142: I tensorflow/stream_executor/platform/default/dso_loader.cc:49] Successfully opened dynamic library libcufft.so.10\n",
            "2021-02-14 10:04:28.700165: I tensorflow/stream_executor/platform/default/dso_loader.cc:49] Successfully opened dynamic library libcurand.so.10\n",
            "2021-02-14 10:04:28.700190: I tensorflow/stream_executor/platform/default/dso_loader.cc:49] Successfully opened dynamic library libcusolver.so.10\n",
            "2021-02-14 10:04:28.700212: I tensorflow/stream_executor/platform/default/dso_loader.cc:49] Successfully opened dynamic library libcusparse.so.10\n",
            "2021-02-14 10:04:28.700234: I tensorflow/stream_executor/platform/default/dso_loader.cc:49] Successfully opened dynamic library libcudnn.so.7\n",
            "2021-02-14 10:04:28.700325: I tensorflow/stream_executor/cuda/cuda_gpu_executor.cc:941] successful NUMA node read from SysFS had negative value (-1), but there must be at least one NUMA node, so returning NUMA node zero\n",
            "2021-02-14 10:04:28.700973: I tensorflow/stream_executor/cuda/cuda_gpu_executor.cc:941] successful NUMA node read from SysFS had negative value (-1), but there must be at least one NUMA node, so returning NUMA node zero\n",
            "2021-02-14 10:04:28.701508: I tensorflow/core/common_runtime/gpu/gpu_device.cc:1862] Adding visible gpu devices: 0\n",
            "2021-02-14 10:04:28.701555: I tensorflow/stream_executor/platform/default/dso_loader.cc:49] Successfully opened dynamic library libcudart.so.10.1\n",
            "2021-02-14 10:04:29.220044: I tensorflow/core/common_runtime/gpu/gpu_device.cc:1261] Device interconnect StreamExecutor with strength 1 edge matrix:\n",
            "2021-02-14 10:04:29.220104: I tensorflow/core/common_runtime/gpu/gpu_device.cc:1267]      0 \n",
            "2021-02-14 10:04:29.220120: I tensorflow/core/common_runtime/gpu/gpu_device.cc:1280] 0:   N \n",
            "2021-02-14 10:04:29.220323: I tensorflow/stream_executor/cuda/cuda_gpu_executor.cc:941] successful NUMA node read from SysFS had negative value (-1), but there must be at least one NUMA node, so returning NUMA node zero\n",
            "2021-02-14 10:04:29.220962: I tensorflow/stream_executor/cuda/cuda_gpu_executor.cc:941] successful NUMA node read from SysFS had negative value (-1), but there must be at least one NUMA node, so returning NUMA node zero\n",
            "2021-02-14 10:04:29.221535: I tensorflow/stream_executor/cuda/cuda_gpu_executor.cc:941] successful NUMA node read from SysFS had negative value (-1), but there must be at least one NUMA node, so returning NUMA node zero\n",
            "2021-02-14 10:04:29.222098: W tensorflow/core/common_runtime/gpu/gpu_bfc_allocator.cc:39] Overriding allow_growth setting because the TF_FORCE_GPU_ALLOW_GROWTH environment variable is set. Original config value was 0.\n",
            "2021-02-14 10:04:29.222147: I tensorflow/core/common_runtime/gpu/gpu_device.cc:1406] Created TensorFlow device (/job:localhost/replica:0/task:0/device:GPU:0 with 13994 MB memory) -> physical GPU (device: 0, name: Tesla T4, pci bus id: 0000:00:04.0, compute capability: 7.5)\n",
            "Traceback (most recent call last):\n",
            "  File \"train.py\", line 122, in <module>\n",
            "    lr = LEARNING_RATE\n",
            "  File \"/content/dnn-binary-code-similarity/graphnnSiamese.py\", line 54, in __init__\n",
            "    Wnode = tf.Variable(tf.truncated_normal(\n",
            "AttributeError: module 'tensorflow' has no attribute 'truncated_normal'\n"
          ],
          "name": "stdout"
        }
      ]
    },
    {
      "cell_type": "code",
      "metadata": {
        "id": "dLhmZ5q8_3aD"
      },
      "source": [
        ""
      ],
      "execution_count": null,
      "outputs": []
    }
  ]
}